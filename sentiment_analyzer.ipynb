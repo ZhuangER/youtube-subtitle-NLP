{
 "metadata": {
  "name": "",
  "signature": "sha256:294a5298cd34cb9850af4dee658c3031759f20205ce8ce5d2feb0864011c02ec"
 },
 "nbformat": 3,
 "nbformat_minor": 0,
 "worksheets": [
  {
   "cells": [
    {
     "cell_type": "markdown",
     "metadata": {},
     "source": [
      "# word sentiment classify\n",
      "## Train with Naive Bayes Classify"
     ]
    },
    {
     "cell_type": "code",
     "collapsed": false,
     "input": [
      "import collections\n",
      "import nltk.metrics\n",
      "from nltk.classify import NaiveBayesClassifier\n",
      "from nltk.corpus import movie_reviews, stopwords\n",
      "from nltk.metrics import scores\n",
      "from nltk.tokenize import word_tokenize, sent_tokenize\n",
      "import re\n",
      "\n",
      "stopset = set(stopwords.words('english'))\n",
      "\n",
      "def evaluate_classifier(featx):\n",
      "    negids = movie_reviews.fileids('neg')\n",
      "    posids = movie_reviews.fileids('pos')\n",
      " \n",
      "    negfeats = [(featx(movie_reviews.words(fileids=[f])), 'neg') for f in negids]\n",
      "    posfeats = [(featx(movie_reviews.words(fileids=[f])), 'pos') for f in posids]\n",
      " \n",
      "    negcutoff = len(negfeats)*3/4\n",
      "    poscutoff = len(posfeats)*3/4\n",
      " \n",
      "    trainfeats = negfeats[:negcutoff] + posfeats[:poscutoff]\n",
      "    testfeats = negfeats[negcutoff:] + posfeats[poscutoff:]\n",
      " \n",
      "    classifier = NaiveBayesClassifier.train(trainfeats)\n",
      "    refsets = collections.defaultdict(set)\n",
      "    testsets = collections.defaultdict(set)\n",
      " \n",
      "    for i, (feats, label) in enumerate(testfeats):\n",
      "            refsets[label].add(i)\n",
      "            observed = classifier.classify(feats)\n",
      "            testsets[observed].add(i)\n",
      " \n",
      "    print 'accuracy:', nltk.classify.util.accuracy(classifier, testfeats)\n",
      "    print 'pos precision:', scores.precision(refsets['pos'], testsets['pos'])\n",
      "    print 'pos recall:', scores.recall(refsets['pos'], testsets['pos'])\n",
      "    print 'pos F-measure:', scores.f_measure(refsets['pos'], testsets['pos'])\n",
      "    print 'neg precision:', scores.precision(refsets['neg'], testsets['neg'])\n",
      "    print 'neg recall:', scores.recall(refsets['neg'], testsets['neg'])\n",
      "    print 'neg F-measure:', scores.f_measure(refsets['neg'], testsets['neg'])\n",
      "\n",
      "    classifier.show_most_informative_features()"
     ],
     "language": "python",
     "metadata": {},
     "outputs": [
      {
       "output_type": "stream",
       "stream": "stdout",
       "text": [
        "\n"
       ]
      }
     ],
     "prompt_number": 30
    },
    {
     "cell_type": "code",
     "collapsed": false,
     "input": [
      "def word_feats(words):\n",
      "    return dict([(word, True) for word in words])\n",
      " \n",
      "evaluate_classifier(word_feats)"
     ],
     "language": "python",
     "metadata": {},
     "outputs": [
      {
       "output_type": "stream",
       "stream": "stdout",
       "text": [
        "accuracy: "
       ]
      },
      {
       "output_type": "stream",
       "stream": "stdout",
       "text": [
        "0.728\n",
        "pos precision: 0.651595744681\n",
        "pos recall: 0.98\n",
        "pos F-measure: 0.782747603834\n",
        "neg precision: 0.959677419355\n",
        "neg recall: 0.476\n",
        "neg F-measure: 0.636363636364\n",
        "Most Informative Features\n",
        "             magnificent = True              pos : neg    =     15.0 : 1.0"
       ]
      },
      {
       "output_type": "stream",
       "stream": "stdout",
       "text": [
        "\n",
        "             outstanding = True              pos : neg    =     13.6 : 1.0\n",
        "               insulting = True              neg : pos    =     13.0 : 1.0\n",
        "              vulnerable = True              pos : neg    =     12.3 : 1.0\n",
        "               ludicrous = True              neg : pos    =     11.8 : 1.0\n",
        "                  avoids = True              pos : neg    =     11.7 : 1.0\n",
        "             uninvolving = True              neg : pos    =     11.7 : 1.0\n",
        "              astounding = True              pos : neg    =     10.3 : 1.0\n",
        "             fascination = True              pos : neg    =     10.3 : 1.0\n",
        "                 idiotic = True              neg : pos    =      9.8 : 1.0\n"
       ]
      }
     ],
     "prompt_number": 10
    },
    {
     "cell_type": "code",
     "collapsed": false,
     "input": [
      "from nltk.corpus import stopwords\n",
      "stopset = set(stopwords.words('english'))\n",
      " \n",
      "def stopword_filtered_word_feats(words):\n",
      "    return dict([(word, True) for word in words if word not in stopset])\n",
      " \n",
      "evaluate_classifier(stopword_filtered_word_feats)\n"
     ],
     "language": "python",
     "metadata": {},
     "outputs": [
      {
       "output_type": "stream",
       "stream": "stdout",
       "text": [
        "accuracy: "
       ]
      },
      {
       "output_type": "stream",
       "stream": "stdout",
       "text": [
        "0.724\n",
        "pos precision: 0.647368421053\n",
        "pos recall: 0.984\n",
        "pos F-measure: 0.780952380952\n",
        "neg precision: 0.966666666667\n",
        "neg recall: 0.464\n",
        "neg F-measure: 0.627027027027\n",
        "Most Informative Features\n",
        "             magnificent = True              pos : neg    =     15.0 : 1.0"
       ]
      },
      {
       "output_type": "stream",
       "stream": "stdout",
       "text": [
        "\n",
        "             outstanding = True              pos : neg    =     13.6 : 1.0\n",
        "               insulting = True              neg : pos    =     13.0 : 1.0\n",
        "              vulnerable = True              pos : neg    =     12.3 : 1.0\n",
        "               ludicrous = True              neg : pos    =     11.8 : 1.0\n",
        "                  avoids = True              pos : neg    =     11.7 : 1.0\n",
        "             uninvolving = True              neg : pos    =     11.7 : 1.0\n",
        "              astounding = True              pos : neg    =     10.3 : 1.0\n",
        "             fascination = True              pos : neg    =     10.3 : 1.0\n",
        "                 idiotic = True              neg : pos    =      9.8 : 1.0\n"
       ]
      }
     ],
     "prompt_number": 12
    },
    {
     "cell_type": "code",
     "collapsed": false,
     "input": [
      "import itertools\n",
      "from nltk.collocations import BigramCollocationFinder\n",
      "from nltk.metrics import BigramAssocMeasures\n",
      " \n",
      "def bigram_word_feats(words, score_fn=BigramAssocMeasures.chi_sq, n=200):\n",
      "    bigram_finder = BigramCollocationFinder.from_words(words)\n",
      "    bigrams = bigram_finder.nbest(score_fn, n)\n",
      "    return dict([(ngram, True) for ngram in itertools.chain(words, bigrams)])\n",
      " \n",
      "evaluate_classifier(bigram_word_feats)\n"
     ],
     "language": "python",
     "metadata": {},
     "outputs": [
      {
       "output_type": "stream",
       "stream": "stdout",
       "text": [
        "accuracy: "
       ]
      },
      {
       "output_type": "stream",
       "stream": "stdout",
       "text": [
        "0.816\n",
        "pos precision: 0.753205128205\n",
        "pos recall: 0.94\n",
        "pos F-measure: 0.836298932384\n",
        "neg precision: 0.920212765957\n",
        "neg recall: 0.692\n",
        "neg F-measure: 0.7899543379\n",
        "Most Informative Features\n",
        "             magnificent = True              pos : neg    =     15.0 : 1.0"
       ]
      },
      {
       "output_type": "stream",
       "stream": "stdout",
       "text": [
        "\n",
        "             outstanding = True              pos : neg    =     13.6 : 1.0\n",
        "               insulting = True              neg : pos    =     13.0 : 1.0\n",
        "              vulnerable = True              pos : neg    =     12.3 : 1.0\n",
        "     (u'matt', u'damon') = True              pos : neg    =     12.3 : 1.0\n",
        "        (u'give', u'us') = True              neg : pos    =     12.3 : 1.0\n",
        "               ludicrous = True              neg : pos    =     11.8 : 1.0\n",
        "             uninvolving = True              neg : pos    =     11.7 : 1.0\n",
        "                  avoids = True              pos : neg    =     11.7 : 1.0\n",
        "  (u'absolutely', u'no') = True              neg : pos    =     10.6 : 1.0\n"
       ]
      }
     ],
     "prompt_number": 13
    },
    {
     "cell_type": "code",
     "collapsed": false,
     "input": [
      "word_fd = FreqDist(movie_reviews.words(categories=['pos']))"
     ],
     "language": "python",
     "metadata": {},
     "outputs": [],
     "prompt_number": 17
    },
    {
     "cell_type": "code",
     "collapsed": false,
     "input": [
      "import string\n",
      "\n",
      "punc_set = set(string.punctuation)\n",
      "label_word_fd = ConditionalFreqDist()\n",
      "# label_word_fd['pos']\n",
      "\n",
      "text_pos = [i.lower() for i in movie_reviews.words(categories=['pos']) if i.lower() not in stopset and i not in punc_set]\n",
      "label_word_fd['pos'] = FreqDist(text_pos)\n",
      "text_pos = [i.lower() for i in movie_reviews.words(categories=['neg']) if i.lower() not in stopset and i not in punc_set]\n",
      "label_word_fd['neg'] = FreqDist(text_pos)\n",
      "\n"
     ],
     "language": "python",
     "metadata": {},
     "outputs": [],
     "prompt_number": 26
    },
    {
     "cell_type": "code",
     "collapsed": false,
     "input": [
      "pos_word_count"
     ],
     "language": "python",
     "metadata": {},
     "outputs": [
      {
       "metadata": {},
       "output_type": "pyout",
       "prompt_number": 33,
       "text": [
        "502567"
       ]
      }
     ],
     "prompt_number": 33
    },
    {
     "cell_type": "code",
     "collapsed": false,
     "input": [
      "import collections, itertools\n",
      "import nltk.classify.util, nltk.metrics\n",
      "from nltk.classify import NaiveBayesClassifier\n",
      "from nltk.corpus import movie_reviews, stopwords\n",
      "from nltk.collocations import BigramCollocationFinder\n",
      "from nltk.metrics import BigramAssocMeasures\n",
      "from nltk.probability import FreqDist, ConditionalFreqDist\n",
      "import string\n",
      "\n",
      "punc_set = set(string.punctuation)\n",
      "\n",
      "text = [i.lower() for i in movie_reviews.words() if i.lower() not in stopset and i not in punc_set]\n",
      "word_fd = FreqDist(text)\n",
      "label_word_fd = ConditionalFreqDist()\n",
      "\n",
      "text_pos = [i.lower() for i in movie_reviews.words(categories=['pos']) if i.lower() not in stopset and i not in punc_set]\n",
      "label_word_fd['pos'] = FreqDist(text_pos)\n",
      "text_pos = [i.lower() for i in movie_reviews.words(categories=['neg']) if i.lower() not in stopset and i not in punc_set]\n",
      "label_word_fd['neg'] = FreqDist(text_pos)\n",
      "\n",
      " \n",
      "pos_word_count = label_word_fd['pos'].N()\n",
      "neg_word_count = label_word_fd['neg'].N()\n",
      "total_word_count = pos_word_count + neg_word_count\n",
      " \n",
      "word_scores = {}\n",
      " \n",
      "for word, freq in word_fd.iteritems():\n",
      "    pos_score = BigramAssocMeasures.chi_sq(label_word_fd['pos'][word],\n",
      "        (freq, pos_word_count), total_word_count)\n",
      "    neg_score = BigramAssocMeasures.chi_sq(label_word_fd['neg'][word],\n",
      "        (freq, neg_word_count), total_word_count)\n",
      "    word_scores[word] = pos_score + neg_score\n",
      " \n",
      "best = sorted(word_scores.iteritems(), key=lambda (w,s): s, reverse=True)[:10000]\n",
      "bestwords = set([w for w, s in best])\n",
      " \n",
      "def best_word_feats(words):\n",
      "    return dict([(word, True) for word in words if word in bestwords])\n",
      " \n",
      "print 'evaluating best word features'\n",
      "evaluate_classifier(best_word_feats)\n",
      " \n",
      "def best_bigram_word_feats(words, score_fn=BigramAssocMeasures.chi_sq, n=200):\n",
      "    bigram_finder = BigramCollocationFinder.from_words(words)\n",
      "    bigrams = bigram_finder.nbest(score_fn, n)\n",
      "    d = dict([(bigram, True) for bigram in bigrams])\n",
      "    d.update(best_word_feats(words))\n",
      "    return d\n",
      " \n",
      "print 'evaluating best words + bigram chi_sq word features'\n",
      "evaluate_classifier(best_bigram_word_feats)"
     ],
     "language": "python",
     "metadata": {},
     "outputs": [
      {
       "output_type": "stream",
       "stream": "stdout",
       "text": [
        "evaluating best word features\n",
        "accuracy:"
       ]
      },
      {
       "output_type": "stream",
       "stream": "stdout",
       "text": [
        " 0.924\n",
        "pos precision: 0.881294964029\n",
        "pos recall: 0.98\n",
        "pos F-measure: 0.92803030303\n",
        "neg precision: 0.977477477477\n",
        "neg recall: 0.868\n",
        "neg F-measure: 0.919491525424\n",
        "Most Informative Features\n",
        "             magnificent = True              pos : neg    =     15.0 : 1.0"
       ]
      },
      {
       "output_type": "stream",
       "stream": "stdout",
       "text": [
        "\n",
        "             outstanding = True              pos : neg    =     13.6 : 1.0\n",
        "               insulting = True              neg : pos    =     13.0 : 1.0\n",
        "              vulnerable = True              pos : neg    =     12.3 : 1.0\n",
        "               ludicrous = True              neg : pos    =     11.8 : 1.0\n",
        "                  avoids = True              pos : neg    =     11.7 : 1.0\n",
        "             uninvolving = True              neg : pos    =     11.7 : 1.0\n",
        "              astounding = True              pos : neg    =     10.3 : 1.0\n",
        "             fascination = True              pos : neg    =     10.3 : 1.0\n",
        "                 idiotic = True              neg : pos    =      9.8 : 1.0\n",
        "evaluating best words + bigram chi_sq word features"
       ]
      },
      {
       "output_type": "stream",
       "stream": "stdout",
       "text": [
        "\n",
        "accuracy:"
       ]
      },
      {
       "output_type": "stream",
       "stream": "stdout",
       "text": [
        " 0.922\n",
        "pos precision: 0.916996047431\n",
        "pos recall: 0.928\n",
        "pos F-measure: 0.922465208748\n",
        "neg precision: 0.927125506073\n",
        "neg recall: 0.916\n",
        "neg F-measure: 0.92152917505\n",
        "Most Informative Features\n",
        "             magnificent = True              pos : neg    =     15.0 : 1.0"
       ]
      },
      {
       "output_type": "stream",
       "stream": "stdout",
       "text": [
        "\n",
        "             outstanding = True              pos : neg    =     13.6 : 1.0\n",
        "               insulting = True              neg : pos    =     13.0 : 1.0\n",
        "     (u'matt', u'damon') = True              pos : neg    =     12.3 : 1.0\n",
        "              vulnerable = True              pos : neg    =     12.3 : 1.0\n",
        "        (u'give', u'us') = True              neg : pos    =     12.3 : 1.0\n",
        "               ludicrous = True              neg : pos    =     11.8 : 1.0\n",
        "             uninvolving = True              neg : pos    =     11.7 : 1.0\n",
        "                  avoids = True              pos : neg    =     11.7 : 1.0\n",
        "  (u'absolutely', u'no') = True              neg : pos    =     10.6 : 1.0\n"
       ]
      }
     ],
     "prompt_number": 38
    },
    {
     "cell_type": "code",
     "collapsed": false,
     "input": [
      "dir(FreqDist)"
     ],
     "language": "python",
     "metadata": {},
     "outputs": [
      {
       "metadata": {},
       "output_type": "pyout",
       "prompt_number": 16,
       "text": [
        "['B',\n",
        " 'N',\n",
        " 'Nr',\n",
        " '__add__',\n",
        " '__and__',\n",
        " '__class__',\n",
        " '__cmp__',\n",
        " '__contains__',\n",
        " '__delattr__',\n",
        " '__delitem__',\n",
        " '__dict__',\n",
        " '__doc__',\n",
        " '__eq__',\n",
        " '__format__',\n",
        " '__ge__',\n",
        " '__getattribute__',\n",
        " '__getitem__',\n",
        " '__gt__',\n",
        " '__hash__',\n",
        " '__init__',\n",
        " '__iter__',\n",
        " '__le__',\n",
        " '__len__',\n",
        " '__lt__',\n",
        " '__missing__',\n",
        " '__module__',\n",
        " '__ne__',\n",
        " '__new__',\n",
        " '__or__',\n",
        " '__reduce__',\n",
        " '__reduce_ex__',\n",
        " '__repr__',\n",
        " '__setattr__',\n",
        " '__setitem__',\n",
        " '__sizeof__',\n",
        " '__str__',\n",
        " '__sub__',\n",
        " '__subclasshook__',\n",
        " '__unicode__',\n",
        " '__weakref__',\n",
        " '_cumulative_frequencies',\n",
        " 'clear',\n",
        " 'copy',\n",
        " 'elements',\n",
        " 'freq',\n",
        " 'fromkeys',\n",
        " 'get',\n",
        " 'hapaxes',\n",
        " 'has_key',\n",
        " 'items',\n",
        " 'iteritems',\n",
        " 'iterkeys',\n",
        " 'itervalues',\n",
        " 'keys',\n",
        " 'max',\n",
        " 'most_common',\n",
        " 'pformat',\n",
        " 'plot',\n",
        " 'pop',\n",
        " 'popitem',\n",
        " 'pprint',\n",
        " 'r_Nr',\n",
        " 'setdefault',\n",
        " 'subtract',\n",
        " 'tabulate',\n",
        " 'unicode_repr',\n",
        " 'update',\n",
        " 'values',\n",
        " 'viewitems',\n",
        " 'viewkeys',\n",
        " 'viewvalues']"
       ]
      },
      {
       "output_type": "stream",
       "stream": "stdout",
       "text": [
        "\n"
       ]
      }
     ],
     "prompt_number": 16
    },
    {
     "cell_type": "code",
     "collapsed": false,
     "input": [
      "def data_clean(text):\n",
      "    # split content into sencetence\n",
      "    # based on the character\n",
      "    # if (re.search(\"(\\[.*\\])\", text)):\n",
      "    # \tsentences = re.compile(\"(\\[.*\\])\").split(text)\n",
      "    sentences = sent_tokenize(text)\n",
      "    for sentence in sentences:\n",
      "        words = word_tokenizer(sentence)\n",
      "    # stem the word"
     ],
     "language": "python",
     "metadata": {},
     "outputs": [
      {
       "metadata": {},
       "output_type": "pyout",
       "prompt_number": 3,
       "text": [
        "['BlanklineTokenizer',\n",
        " 'LineTokenizer',\n",
        " 'MWETokenizer',\n",
        " 'PunktSentenceTokenizer',\n",
        " 'RegexpTokenizer',\n",
        " 'SExprTokenizer',\n",
        " 'SpaceTokenizer',\n",
        " 'StanfordSegmenter',\n",
        " 'StanfordTokenizer',\n",
        " 'TabTokenizer',\n",
        " 'TextTilingTokenizer',\n",
        " 'TreebankWordTokenizer',\n",
        " 'TweetTokenizer',\n",
        " 'WhitespaceTokenizer',\n",
        " 'WordPunctTokenizer',\n",
        " '__builtins__',\n",
        " '__doc__',\n",
        " '__file__',\n",
        " '__name__',\n",
        " '__package__',\n",
        " '__path__',\n",
        " '_treebank_word_tokenize',\n",
        " 'api',\n",
        " 'blankline_tokenize',\n",
        " 'casual',\n",
        " 'casual_tokenize',\n",
        " 'line_tokenize',\n",
        " 'load',\n",
        " 'mwe',\n",
        " 'punkt',\n",
        " 'regexp',\n",
        " 'regexp_span_tokenize',\n",
        " 'regexp_tokenize',\n",
        " 'sent_tokenize',\n",
        " 'sexpr',\n",
        " 'sexpr_tokenize',\n",
        " 'simple',\n",
        " 'stanford',\n",
        " 'stanford_segmenter',\n",
        " 'string_span_tokenize',\n",
        " 'texttiling',\n",
        " 'treebank',\n",
        " 'util',\n",
        " 'word_tokenize',\n",
        " 'wordpunct_tokenize']"
       ]
      }
     ],
     "prompt_number": 3
    }
   ],
   "metadata": {}
  }
 ]
}