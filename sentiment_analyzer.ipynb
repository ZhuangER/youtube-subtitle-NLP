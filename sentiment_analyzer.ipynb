{
 "metadata": {
  "name": "",
  "signature": "sha256:7efae3ceb05b8775fc890b1f31b9abac0ed5bd2eddb88bd1548715569a47e525"
 },
 "nbformat": 3,
 "nbformat_minor": 0,
 "worksheets": [
  {
   "cells": [
    {
     "cell_type": "markdown",
     "metadata": {},
     "source": [
      "For video subtitles\n",
      "- seperate the paragraph by different opinion holder"
     ]
    },
    {
     "cell_type": "code",
     "collapsed": false,
     "input": [],
     "language": "python",
     "metadata": {},
     "outputs": []
    },
    {
     "cell_type": "code",
     "collapsed": false,
     "input": [],
     "language": "python",
     "metadata": {},
     "outputs": []
    },
    {
     "cell_type": "code",
     "collapsed": false,
     "input": [],
     "language": "python",
     "metadata": {},
     "outputs": []
    },
    {
     "cell_type": "code",
     "collapsed": false,
     "input": [
      "from nltk.sentiment import SentimentAnalyzer\n",
      "from nltk.sentiment.util import *\n",
      "from nltk.corpus import subjectivity\n",
      "from nltk.classify import NaiveBayesClassifier"
     ],
     "language": "python",
     "metadata": {},
     "outputs": [],
     "prompt_number": 79
    },
    {
     "cell_type": "code",
     "collapsed": false,
     "input": [
      "n_instances = 1000\n",
      "subj_docs = [(sent, 'subj') for sent in subjectivity.sents(categories='subj')[:n_instances]]\n",
      "obj_docs = [(sent, 'obj') for sent in subjectivity.sents(categories='obj')[:n_instances]]\n",
      "len(subj_docs), len(obj_docs)"
     ],
     "language": "python",
     "metadata": {},
     "outputs": [
      {
       "metadata": {},
       "output_type": "pyout",
       "prompt_number": 80,
       "text": [
        "(1000, 1000)"
       ]
      }
     ],
     "prompt_number": 80
    },
    {
     "cell_type": "code",
     "collapsed": false,
     "input": [
      "train_subj_docs = subj_docs[:80]\n",
      "test_subj_docs = subj_docs[80:100]\n",
      "train_obj_docs = obj_docs[:80]\n",
      "test_obj_docs = obj_docs[80:100]\n",
      "training_docs = train_subj_docs + train_obj_docs\n",
      "testing_docs = test_subj_docs + test_obj_docs\n",
      "\n",
      "sentim_analyzer = SentimentAnalyzer()\n",
      "all_words_neg = sentim_analyzer.all_words([mark_negation(doc) for doc in training_docs])\n"
     ],
     "language": "python",
     "metadata": {},
     "outputs": [],
     "prompt_number": 81
    },
    {
     "cell_type": "code",
     "collapsed": false,
     "input": [
      "unigram_feats = sentim_analyzer.unigram_word_feats(all_words_neg, min_freq=4)\n",
      "len(unigram_feats)"
     ],
     "language": "python",
     "metadata": {},
     "outputs": [
      {
       "metadata": {},
       "output_type": "pyout",
       "prompt_number": 82,
       "text": [
        "83"
       ]
      }
     ],
     "prompt_number": 82
    },
    {
     "cell_type": "code",
     "collapsed": false,
     "input": [
      "sentim_analyzer.add_feat_extractor(extract_unigram_feats, unigrams=unigram_feats)"
     ],
     "language": "python",
     "metadata": {},
     "outputs": [],
     "prompt_number": 83
    },
    {
     "cell_type": "code",
     "collapsed": false,
     "input": [
      "training_set = sentim_analyzer.apply_features(training_docs)\n",
      "test_set = sentim_analyzer.apply_features(testing_docs)"
     ],
     "language": "python",
     "metadata": {},
     "outputs": [],
     "prompt_number": 84
    },
    {
     "cell_type": "code",
     "collapsed": false,
     "input": [
      "trainer = NaiveBayesClassifier.train\n",
      "classifier = sentim_analyzer.train(trainer, training_set)\n",
      "for key,value in sorted(sentim_analyzer.evaluate(test_set).items()):\n",
      "    print('{0}: {1}'.format(key, value))"
     ],
     "language": "python",
     "metadata": {},
     "outputs": [
      {
       "output_type": "stream",
       "stream": "stdout",
       "text": [
        "Training classifier\n",
        "Evaluating NaiveBayesClassifier results...\n",
        "Accuracy: 0.8"
       ]
      },
      {
       "output_type": "stream",
       "stream": "stdout",
       "text": [
        "\n",
        "F-measure [obj]: 0.8\n",
        "F-measure [subj]: 0.8\n",
        "Precision [obj]: 0.8\n",
        "Precision [subj]: 0.8\n",
        "Recall [obj]: 0.8\n",
        "Recall [subj]: 0.8\n"
       ]
      }
     ],
     "prompt_number": 85
    },
    {
     "cell_type": "markdown",
     "metadata": {},
     "source": [
      "# CoreNLP\n",
      "\n",
      "Usage Example: https://www.quora.com/Could-anyone-give-me-an-example-of-using-Stanford-CoreNLP-sentiment-analysis-with-Python"
     ]
    },
    {
     "cell_type": "code",
     "collapsed": false,
     "input": [
      "import codecs\n",
      "def txt_to_test_data(filename):\n",
      "    with open(filename) as f:\n",
      "        content = f.readlines()\n",
      "    sentences = []\n",
      "    labels = []\n",
      "    for line in content:\n",
      "        temp = line.split()\n",
      "        sentence = ' '.join(temp[:-1])\n",
      "        label = temp[-1]\n",
      "        sentences.append(sentence)\n",
      "        labels.append(label)\n",
      "    return sentences, labels\n",
      "\n",
      "amazon_sentences, amazon_labels = txt_to_test_data(\"/vagrant/data/sentiment-labelled-sentences/amazon_cells_labelled.txt\")\n",
      "yelp_sentences, yelp_labels = txt_to_test_data(\"/vagrant/data/sentiment-labelled-sentences/yelp_labelled.txt\")\n",
      "imdb_sentences, imdb_labels = txt_to_test_data(\"/vagrant/data/sentiment-labelled-sentences/imdb_labelled.txt\")\n"
     ],
     "language": "python",
     "metadata": {},
     "outputs": [],
     "prompt_number": 1
    },
    {
     "cell_type": "code",
     "collapsed": false,
     "input": [
      "# set default encoding as utf8\n",
      "# !!! Dangerous\n",
      "# make sure store your output\n",
      "import sys  \n",
      "\n",
      "# store notebook output\n",
      "nb_stdout = sys.stdout\n",
      "\n",
      "reload(sys)  \n",
      "sys.setdefaultencoding('utf8')"
     ],
     "language": "python",
     "metadata": {},
     "outputs": [],
     "prompt_number": 19
    },
    {
     "cell_type": "markdown",
     "metadata": {},
     "source": [
      "Remove stop words always make result worse."
     ]
    },
    {
     "cell_type": "code",
     "collapsed": false,
     "input": [
      "from pycorenlp import StanfordCoreNLP\n",
      "nlp = StanfordCoreNLP('http://localhost:9000')\n",
      "from nltk.corpus import stopwords\n",
      "from nltk.tokenize import word_tokenize\n",
      "stopset = set(stopwords.words('english'))\n",
      "\n",
      "def corenlp_predict(sentences):\n",
      "    corenlp_pred = []\n",
      "    for sentence in sentences:\n",
      "        res = nlp.annotate(sentence,\n",
      "                           properties={\n",
      "                            'annotators' : 'tokenize sentiment',\n",
      "                            'outputFormat': 'json'\n",
      "                            })\n",
      "        sentiment_count = 0\n",
      "        cnt = 0\n",
      "        for s in res[\"sentences\"]:\n",
      "            sentiment_count += float(s[\"sentimentValue\"])\n",
      "            cnt += 1\n",
      "        if sentiment_count / cnt == float(2):\n",
      "            corenlp_pred.append('2')\n",
      "        elif sentiment_count / cnt < 2:\n",
      "            corenlp_pred.append('0')\n",
      "        elif sentiment_count / cnt > 2:\n",
      "            corenlp_pred.append('1')\n",
      "    return corenlp_pred"
     ],
     "language": "python",
     "metadata": {},
     "outputs": [],
     "prompt_number": 5
    },
    {
     "cell_type": "code",
     "collapsed": false,
     "input": [
      "amazon_corenlp_pred = corenlp_predict(amazon_sentences)"
     ],
     "language": "python",
     "metadata": {},
     "outputs": [],
     "prompt_number": 3
    },
    {
     "cell_type": "code",
     "collapsed": false,
     "input": [
      "yelp_corenlp_pred = corenlp_predict(yelp_sentences)"
     ],
     "language": "python",
     "metadata": {},
     "outputs": [],
     "prompt_number": 28
    },
    {
     "cell_type": "code",
     "collapsed": false,
     "input": [
      "imdb_corenlp_pred = corenlp_predict(imdb_sentences)"
     ],
     "language": "python",
     "metadata": {},
     "outputs": [],
     "prompt_number": 78
    },
    {
     "cell_type": "code",
     "collapsed": false,
     "input": [
      "# save predic result\n",
      "# with open('/vagrant/data/result/corenlp/amazon_pred.txt', 'w') as f:\n",
      "#     for i in amazon_corenlp_pred:\n",
      "#         f.write(\"%s\\n\" %i)\n",
      "\n",
      "# with open('/vagrant/data/result/corenlp/yelp_pred.txt', 'w') as f:\n",
      "#     for i in yelp_corenlp_pred:\n",
      "#         f.write(\"%s\\n\" %i)\n",
      "\n",
      "# with open('/vagrant/data/result/corenlp/imdb_pred.txt', 'w') as f:\n",
      "#     for i in imdb_corenlp_pred:\n",
      "#         f.write(\"%s\\n\" %i)"
     ],
     "language": "python",
     "metadata": {},
     "outputs": [],
     "prompt_number": 8
    },
    {
     "cell_type": "code",
     "collapsed": false,
     "input": [
      "# read pred results\n",
      "# def read_pred_file(filename):\n",
      "#     l = []\n",
      "#     with open(filename) as f:\n",
      "#         content = f.readlines()\n",
      "#         for line in content:\n",
      "#             l.append(line[0])\n",
      "#     return l\n",
      "# amazon_corenlp_pred = read_pred_file('/vagrant/data/result/corenlp/amazon_pred.txt')\n",
      "# yelp_corenlp_pred = read_pred_file('/vagrant/data/result/corenlp/yelp_pred.txt')\n",
      "# imdb_corenlp_pred = read_pred_file('/vagrant/data/result/corenlp/imdb_pred.txt')"
     ],
     "language": "python",
     "metadata": {},
     "outputs": [],
     "prompt_number": 3
    },
    {
     "cell_type": "code",
     "collapsed": false,
     "input": [
      "# if stdout change, restore the output to notebook\n",
      "# import sys\n",
      "# sys.stdout = open('/dev/nb_stdout', 'w')\n",
      "\n",
      "from sklearn.metrics import f1_score, accuracy_score\n",
      "print \"Amazon Evaluation\"\n",
      "print f1_score(amazon_labels, amazon_corenlp_pred, average='weighted')\n",
      "print accuracy_score(amazon_labels, amazon_corenlp_pred)\n",
      "print '\\n'\n",
      "\n",
      "print \"Yelp Evaluation\"\n",
      "print f1_score(yelp_labels, yelp_corenlp_pred, average='weighted')\n",
      "print accuracy_score(yelp_labels, yelp_corenlp_pred)\n",
      "print '\\n'\n",
      "\n",
      "print \"Imdb Evaluation\"\n",
      "print f1_score(imdb_labels, imdb_corenlp_pred, average='weighted')\n",
      "print accuracy_score(imdb_labels, imdb_corenlp_pred)\n",
      "print '\\n'"
     ],
     "language": "python",
     "metadata": {},
     "outputs": [
      {
       "output_type": "stream",
       "stream": "stdout",
       "text": [
        "Amazon Evaluation\n",
        "0.793716959279\n",
        "0.741\n",
        "\n",
        "\n",
        "Yelp Evaluation\n",
        "0.802834657014\n",
        "0.758\n",
        "\n",
        "\n",
        "Imdb Evaluation\n",
        "0.840763396134\n",
        "0.807\n",
        "\n",
        "\n"
       ]
      },
      {
       "output_type": "stream",
       "stream": "stderr",
       "text": [
        "/usr/local/lib/python2.7/dist-packages/sklearn/metrics/classification.py:1115: UndefinedMetricWarning: F-score is ill-defined and being set to 0.0 in labels with no true samples.\n",
        "  'recall', 'true', average, warn_for)\n"
       ]
      }
     ],
     "prompt_number": 7
    },
    {
     "cell_type": "code",
     "collapsed": false,
     "input": [
      "# Example\n",
      "for s in res[\"sentences\"]:\n",
      "    print \"%d: '%s': %s %s\" % (\n",
      "        s[\"index\"],\n",
      "        \" \".join([t[\"word\"] for t in s[\"tokens\"]]),\n",
      "        s[\"sentimentValue\"], s[\"sentiment\"])\n",
      " "
     ],
     "language": "python",
     "metadata": {},
     "outputs": [
      {
       "output_type": "stream",
       "stream": "stdout",
       "text": [
        "0: 'So there is no way for me to plug it in here in the US unless I go by a converter .': 1 Negative\n"
       ]
      }
     ],
     "prompt_number": 13
    },
    {
     "cell_type": "markdown",
     "metadata": {},
     "source": [
      "# VADER (Valence Aware Dictionary and sEntiment Reasoner)\n",
      "\n",
      "lexicon and rule-based "
     ]
    },
    {
     "cell_type": "code",
     "collapsed": false,
     "input": [
      "from nltk.sentiment.vader import SentimentIntensityAnalyzer\n",
      "sid = SentimentIntensityAnalyzer()\n",
      "\n",
      "def vader_predict(sentences):\n",
      "    vader_pred = []\n",
      "    for sentence in sentences:\n",
      "        ss = sid.polarity_scores(sentence)\n",
      "        if ss['compound'] == 0:\n",
      "            vader_pred.append('2')\n",
      "        elif ss['compound'] < 0:\n",
      "            vader_pred.append('0')\n",
      "        elif ss['compound'] > 0:\n",
      "            vader_pred.append('1')\n",
      "    return vader_pred\n",
      "\n",
      "vader_amazon_pred = vader_predict(amazon_sentences)\n",
      "vader_yelp_pred = vader_predict(yelp_sentences)\n",
      "vader_imdb_pred = vader_predict(imdb_sentences)"
     ],
     "language": "python",
     "metadata": {},
     "outputs": [
      {
       "output_type": "stream",
       "stream": "stderr",
       "text": [
        "/usr/local/lib/python2.7/dist-packages/nltk/twitter/__init__.py:20: UserWarning: The twython library has not been installed. Some functionality from the twitter package will not be available.\n",
        "  warnings.warn(\"The twython library has not been installed. \"\n"
       ]
      }
     ],
     "prompt_number": 31
    },
    {
     "cell_type": "code",
     "collapsed": false,
     "input": [
      "from sklearn.metrics import f1_score, accuracy_score\n",
      "print \"Amazon Evaluation\"\n",
      "print f1_score(amazon_labels, vader_amazon_pred, average='weighted')\n",
      "print accuracy_score(amazon_labels, vader_amazon_pred)\n",
      "print '\\n'\n",
      "\n",
      "print \"Yelp Evaluation\"\n",
      "print f1_score(yelp_labels, vader_yelp_pred, average='weighted')\n",
      "print accuracy_score(yelp_labels, vader_yelp_pred)\n",
      "print '\\n'\n",
      "\n",
      "print \"Imdb Evaluation\"\n",
      "print f1_score(imdb_labels, vader_imdb_pred, average='weighted')\n",
      "print accuracy_score(imdb_labels, vader_imdb_pred)\n"
     ],
     "language": "python",
     "metadata": {},
     "outputs": [
      {
       "output_type": "stream",
       "stream": "stdout",
       "text": [
        "Amazon Evaluation\n",
        "0.75769186114\n",
        "0.679\n",
        "\n",
        "\n",
        "Yelp Evaluation\n",
        "0.721432519418\n",
        "0.645\n",
        "\n",
        "\n",
        "Imdb Evaluation\n",
        "0.752129223853\n",
        "0.69\n"
       ]
      }
     ],
     "prompt_number": 50
    },
    {
     "cell_type": "code",
     "collapsed": false,
     "input": [
      "from nltk.corpus import movie_reviews\n",
      "negids = movie_reviews.fileids('neg')\n",
      "posids = movie_reviews.fileids('pos')\n",
      "\n",
      "pos_paragraphs = []\n",
      "neg_paragraphs = []\n",
      "for id in posids:\n",
      "    pos_paragraphs.append(movie_reviews.raw(fileids=[id]))\n",
      "for id in negids:\n",
      "    neg_paragraphs.append(movie_reviews.raw(fileids=[id]))"
     ],
     "language": "python",
     "metadata": {},
     "outputs": [],
     "prompt_number": 37
    },
    {
     "cell_type": "code",
     "collapsed": false,
     "input": [
      "vader_paragraph_predict = vader_predict(pos_paragraphs + neg_paragraphs)"
     ],
     "language": "python",
     "metadata": {},
     "outputs": [],
     "prompt_number": 38
    },
    {
     "cell_type": "code",
     "collapsed": false,
     "input": [
      "movie_review_labels = ['1' for i in xrange(1000)] + ['0' for i in xrange(1000)]\n",
      "from sklearn.metrics import f1_score, accuracy_score\n",
      "print \"Movie Review Evaluation\"\n",
      "print f1_score(movie_review_labels, vader_paragraph_predict, average='weighted')\n",
      "print accuracy_score(movie_review_labels, vader_paragraph_predict)\n",
      "print '\\n'"
     ],
     "language": "python",
     "metadata": {},
     "outputs": [
      {
       "output_type": "stream",
       "stream": "stdout",
       "text": [
        "Movie Review Evaluation\n",
        "0.622662172869\n",
        "0.6365\n",
        "\n",
        "\n"
       ]
      }
     ],
     "prompt_number": 44
    },
    {
     "cell_type": "code",
     "collapsed": false,
     "input": [
      "# other test data\n",
      "\n",
      "\n",
      "from nltk.sentiment.vader import SentimentIntensityAnalyzer\n",
      "sentences = [\"VADER is smart, handsome, and funny.\", # positive sentence example\n",
      "   \"VADER is smart, handsome, and funny!\", # punctuation emphasis handled correctly (sentiment intensity adjusted)\n",
      "   \"VADER is very smart, handsome, and funny.\",  # booster words handled correctly (sentiment intensity adjusted)\n",
      "   \"VADER is VERY SMART, handsome, and FUNNY.\",  # emphasis for ALLCAPS handled\n",
      "   \"VADER is VERY SMART, handsome, and FUNNY!!!\",# combination of signals - VADER appropriately adjusts intensity\n",
      "   \"VADER is VERY SMART, really handsome, and INCREDIBLY FUNNY!!!\",# booster words & punctuation make this close to ceiling for score\n",
      "   \"The book was good.\",         # positive sentence\n",
      "   \"The book was kind of good.\", # qualified positive sentence is handled correctly (intensity adjusted)\n",
      "   \"The plot was good, but the characters are uncompelling and the dialog is not great.\", # mixed negation sentence\n",
      "   \"A really bad, horrible book.\",       # negative sentence with booster words\n",
      "   \"At least it isn't a horrible book.\", # negated negative sentence with contraction\n",
      "   \":) and :D\",     # emoticons handled\n",
      "   \"\",              # an empty string is correctly handled\n",
      "   \"Today sux\",     #  negative slang handled\n",
      "   \"Today sux!\",    #  negative slang with punctuation emphasis handled\n",
      "   \"Today SUX!\",    #  negative slang with capitalization emphasis\n",
      "   \"Today kinda sux! But I'll get by, lol\" # mixed sentiment example with slang and constrastive conjunction \"but\"\n",
      "]\n",
      "\n",
      "paragraph = \"It was one of the worst movies I've seen, despite good reviews. \\\n",
      "Unbelievably bad acting!! Poor direction. VERY poor production. \\\n",
      "The movie was bad. Very bad movie. VERY bad movie. VERY BAD movie. VERY BAD movie!\"\n",
      "\n",
      "tricky_sentences = [\n",
      "   \"Most automated sentiment analysis tools are shit.\",\n",
      "   \"VADER sentiment analysis is the shit.\",\n",
      "   \"Sentiment analysis has never been good.\",\n",
      "   \"Sentiment analysis with VADER has never been this good.\",\n",
      "   \"Warren Beatty has never been so entertaining.\",\n",
      "   \"I won't say that the movie is astounding and I wouldn't claim that \\\n",
      "   the movie is too banal either.\",\n",
      "   \"I like to hate Michael Bay films, but I couldn't fault this one\",\n",
      "   \"It's one thing to watch an Uwe Boll film, but another thing entirely \\\n",
      "   to pay for it\",\n",
      "   \"The movie was too good\",\n",
      "   \"This movie was actually neither that funny, nor super witty.\",\n",
      "   \"This movie doesn't care about cleverness, wit or any other kind of \\\n",
      "   intelligent humor.\",\n",
      "   \"Those who find ugly meanings in beautiful things are corrupt without \\\n",
      "   being charming.\",\n",
      "   \"There are slow and repetitive parts, BUT it has just enough spice to \\\n",
      "   keep it interesting.\",\n",
      "   \"The script is not fantastic, but the acting is decent and the cinematography \\\n",
      "   is EXCELLENT!\",\n",
      "   \"Roger Dodger is one of the most compelling variations on this theme.\",\n",
      "   \"Roger Dodger is one of the least compelling variations on this theme.\",\n",
      "   \"Roger Dodger is at least compelling as a variation on the theme.\",\n",
      "   \"they fall in love with the product\",\n",
      "   \"but then it breaks\",\n",
      "   \"usually around the time the 90 day warranty expires\",\n",
      "   \"the twin towers collapsed today\",\n",
      "   \"However, Mr. Carter solemnly argues, his client carried out the kidnapping \\\n",
      "   under orders and in the ''least offensive way possible.''\"\n",
      "]"
     ],
     "language": "python",
     "metadata": {},
     "outputs": [],
     "prompt_number": 53
    },
    {
     "cell_type": "code",
     "collapsed": false,
     "input": [
      "test = \"Coke is better than Pepsi, but they\u2019re both worse than Dr Pepper\"\n",
      "sid = SentimentIntensityAnalyzer()\n",
      "ss = sid.polarity_scores(test)\n",
      "print ss"
     ],
     "language": "python",
     "metadata": {},
     "outputs": [
      {
       "output_type": "stream",
       "stream": "stdout",
       "text": [
        "{'neg': 0.258, 'neu': 0.621, 'pos': 0.121, 'compound': -0.4939}\n"
       ]
      }
     ],
     "prompt_number": 86
    },
    {
     "cell_type": "markdown",
     "metadata": {},
     "source": [
      "# SentiWordNet\n"
     ]
    },
    {
     "cell_type": "code",
     "collapsed": false,
     "input": [
      "from nltk.corpus import sentiwordnet as swn\n",
      "breakdown = swn.senti_synset('breakdown.n.03')"
     ],
     "language": "python",
     "metadata": {},
     "outputs": [],
     "prompt_number": 66
    },
    {
     "cell_type": "code",
     "collapsed": false,
     "input": [
      "print breakdown"
     ],
     "language": "python",
     "metadata": {},
     "outputs": [
      {
       "output_type": "stream",
       "stream": "stdout",
       "text": [
        "<breakdown.n.03: PosScore=0.0 NegScore=0.25>\n"
       ]
      }
     ],
     "prompt_number": 64
    },
    {
     "cell_type": "code",
     "collapsed": false,
     "input": [],
     "language": "python",
     "metadata": {},
     "outputs": []
    },
    {
     "cell_type": "code",
     "collapsed": false,
     "input": [],
     "language": "python",
     "metadata": {},
     "outputs": []
    },
    {
     "cell_type": "code",
     "collapsed": false,
     "input": [],
     "language": "python",
     "metadata": {},
     "outputs": []
    },
    {
     "cell_type": "code",
     "collapsed": false,
     "input": [],
     "language": "python",
     "metadata": {},
     "outputs": []
    },
    {
     "cell_type": "markdown",
     "metadata": {},
     "source": [
      "# Naive Bayes Classify"
     ]
    },
    {
     "cell_type": "markdown",
     "metadata": {},
     "source": [
      "## The usage of movie review data\n",
      "```python\n",
      "from nltk.corpus import movie_reviews\n",
      "```\n",
      "\n",
      "get id of negative file nad positive file\n",
      "```python\n",
      "negids = movie_reviews.fileids('neg')\n",
      "posids = movie_reviews.fileids('pos')\n",
      "```\n",
      "\n",
      "get raw content of file\n",
      "```python\n",
      "movie_reviews.raw(fileids=[id])\n",
      "```\n",
      "\n",
      "get sentence of file\n",
      "```python\n",
      "movie_reviews.sents(fileids=[id])\n",
      "```\n",
      "\n",
      "get words of file\n",
      "```python\n",
      "movie_reviews.words(fileids=[id])\n",
      "```"
     ]
    },
    {
     "cell_type": "markdown",
     "metadata": {},
     "source": [
      "Related links  \n",
      "http://streamhacker.com/2010/06/16/text-classification-sentiment-analysis-eliminate-low-information-features/"
     ]
    },
    {
     "cell_type": "markdown",
     "metadata": {},
     "source": [
      "## Baseline : Training with the Bag of Words \n",
      "Accuracy: 0.728"
     ]
    },
    {
     "cell_type": "code",
     "collapsed": false,
     "input": [
      "import collections\n",
      "import nltk.metrics\n",
      "from nltk.classify import NaiveBayesClassifier\n",
      "from nltk.corpus import movie_reviews, stopwords\n",
      "from nltk.metrics import scores\n",
      "from nltk.tokenize import word_tokenize, sent_tokenize\n",
      "import re\n",
      "\n",
      "stopset = set(stopwords.words('english'))\n",
      "\n",
      "def evaluate_classifier(featx):\n",
      "    negids = movie_reviews.fileids('neg')\n",
      "    posids = movie_reviews.fileids('pos')\n",
      " \n",
      "    negfeats = [(featx(movie_reviews.words(fileids=[f])), 'neg') for f in negids]\n",
      "    posfeats = [(featx(movie_reviews.words(fileids=[f])), 'pos') for f in posids]\n",
      " \n",
      "    negcutoff = len(negfeats)*3/4\n",
      "    poscutoff = len(posfeats)*3/4\n",
      " \n",
      "    trainfeats = negfeats[:negcutoff] + posfeats[:poscutoff]\n",
      "    testfeats = negfeats[negcutoff:] + posfeats[poscutoff:]\n",
      " \n",
      "    classifier = NaiveBayesClassifier.train(trainfeats)\n",
      "    refsets = collections.defaultdict(set)\n",
      "    testsets = collections.defaultdict(set)\n",
      " \n",
      "    for i, (feats, label) in enumerate(testfeats):\n",
      "            refsets[label].add(i)\n",
      "            observed = classifier.classify(feats)\n",
      "            testsets[observed].add(i)\n",
      " \n",
      "    print 'accuracy:', nltk.classify.util.accuracy(classifier, testfeats)\n",
      "    print 'pos precision:', scores.precision(refsets['pos'], testsets['pos'])\n",
      "    print 'pos recall:', scores.recall(refsets['pos'], testsets['pos'])\n",
      "    print 'pos F-measure:', scores.f_measure(refsets['pos'], testsets['pos'])\n",
      "    print 'neg precision:', scores.precision(refsets['neg'], testsets['neg'])\n",
      "    print 'neg recall:', scores.recall(refsets['neg'], testsets['neg'])\n",
      "    print 'neg F-measure:', scores.f_measure(refsets['neg'], testsets['neg'])\n",
      "\n",
      "    classifier.show_most_informative_features()"
     ],
     "language": "python",
     "metadata": {},
     "outputs": [],
     "prompt_number": 51
    },
    {
     "cell_type": "code",
     "collapsed": false,
     "input": [
      "def word_feats(words):\n",
      "    return dict([(word, True) for word in words])\n",
      " \n",
      "evaluate_classifier(word_feats)"
     ],
     "language": "python",
     "metadata": {},
     "outputs": [
      {
       "output_type": "stream",
       "stream": "stdout",
       "text": [
        "accuracy: "
       ]
      },
      {
       "output_type": "stream",
       "stream": "stdout",
       "text": [
        "0.728\n",
        "pos precision: 0.651595744681\n",
        "pos recall: 0.98\n",
        "pos F-measure: 0.782747603834\n",
        "neg precision: 0.959677419355\n",
        "neg recall: 0.476\n",
        "neg F-measure: 0.636363636364\n",
        "Most Informative Features\n",
        "             magnificent = True              pos : neg    =     15.0 : 1.0"
       ]
      },
      {
       "output_type": "stream",
       "stream": "stdout",
       "text": [
        "\n",
        "             outstanding = True              pos : neg    =     13.6 : 1.0\n",
        "               insulting = True              neg : pos    =     13.0 : 1.0\n",
        "              vulnerable = True              pos : neg    =     12.3 : 1.0\n",
        "               ludicrous = True              neg : pos    =     11.8 : 1.0\n",
        "                  avoids = True              pos : neg    =     11.7 : 1.0\n",
        "             uninvolving = True              neg : pos    =     11.7 : 1.0\n",
        "              astounding = True              pos : neg    =     10.3 : 1.0\n",
        "             fascination = True              pos : neg    =     10.3 : 1.0\n",
        "                 idiotic = True              neg : pos    =      9.8 : 1.0\n"
       ]
      }
     ],
     "prompt_number": 52
    },
    {
     "cell_type": "code",
     "collapsed": false,
     "input": [
      "from nltk.corpus import stopwords\n",
      "stopset = set(stopwords.words('english'))\n",
      " \n",
      "def stopword_filtered_word_feats(words):\n",
      "    return dict([(word, True) for word in words if word not in stopset])\n",
      " \n",
      "evaluate_classifier(stopword_filtered_word_feats)\n"
     ],
     "language": "python",
     "metadata": {},
     "outputs": [
      {
       "output_type": "stream",
       "stream": "stdout",
       "text": [
        "accuracy: "
       ]
      },
      {
       "output_type": "stream",
       "stream": "stdout",
       "text": [
        "0.724\n",
        "pos precision: 0.647368421053\n",
        "pos recall: 0.984\n",
        "pos F-measure: 0.780952380952\n",
        "neg precision: 0.966666666667\n",
        "neg recall: 0.464\n",
        "neg F-measure: 0.627027027027\n",
        "Most Informative Features\n",
        "             magnificent = True              pos : neg    =     15.0 : 1.0"
       ]
      },
      {
       "output_type": "stream",
       "stream": "stdout",
       "text": [
        "\n",
        "             outstanding = True              pos : neg    =     13.6 : 1.0\n",
        "               insulting = True              neg : pos    =     13.0 : 1.0\n",
        "              vulnerable = True              pos : neg    =     12.3 : 1.0\n",
        "               ludicrous = True              neg : pos    =     11.8 : 1.0\n",
        "                  avoids = True              pos : neg    =     11.7 : 1.0\n",
        "             uninvolving = True              neg : pos    =     11.7 : 1.0\n",
        "              astounding = True              pos : neg    =     10.3 : 1.0\n",
        "             fascination = True              pos : neg    =     10.3 : 1.0\n",
        "                 idiotic = True              neg : pos    =      9.8 : 1.0\n"
       ]
      }
     ],
     "prompt_number": 53
    },
    {
     "cell_type": "code",
     "collapsed": false,
     "input": [
      "import itertools\n",
      "from nltk.collocations import BigramCollocationFinder\n",
      "from nltk.metrics import BigramAssocMeasures\n",
      " \n",
      "def bigram_word_feats(words, score_fn=BigramAssocMeasures.chi_sq, n=200):\n",
      "    bigram_finder = BigramCollocationFinder.from_words(words)\n",
      "    bigrams = bigram_finder.nbest(score_fn, n)\n",
      "    return dict([(ngram, True) for ngram in itertools.chain(words, bigrams)])\n",
      " \n",
      "evaluate_classifier(bigram_word_feats)\n"
     ],
     "language": "python",
     "metadata": {},
     "outputs": [
      {
       "output_type": "stream",
       "stream": "stdout",
       "text": [
        "accuracy: "
       ]
      },
      {
       "output_type": "stream",
       "stream": "stdout",
       "text": [
        "0.816\n",
        "pos precision: 0.753205128205\n",
        "pos recall: 0.94\n",
        "pos F-measure: 0.836298932384\n",
        "neg precision: 0.920212765957\n",
        "neg recall: 0.692\n",
        "neg F-measure: 0.7899543379\n",
        "Most Informative Features\n",
        "             magnificent = True              pos : neg    =     15.0 : 1.0"
       ]
      },
      {
       "output_type": "stream",
       "stream": "stdout",
       "text": [
        "\n",
        "             outstanding = True              pos : neg    =     13.6 : 1.0\n",
        "               insulting = True              neg : pos    =     13.0 : 1.0\n",
        "              vulnerable = True              pos : neg    =     12.3 : 1.0\n",
        "     (u'matt', u'damon') = True              pos : neg    =     12.3 : 1.0\n",
        "        (u'give', u'us') = True              neg : pos    =     12.3 : 1.0\n",
        "               ludicrous = True              neg : pos    =     11.8 : 1.0\n",
        "             uninvolving = True              neg : pos    =     11.7 : 1.0\n",
        "                  avoids = True              pos : neg    =     11.7 : 1.0\n",
        "  (u'absolutely', u'no') = True              neg : pos    =     10.6 : 1.0\n"
       ]
      }
     ],
     "prompt_number": 13
    },
    {
     "cell_type": "code",
     "collapsed": false,
     "input": [
      "import collections, itertools\n",
      "import nltk.classify.util, nltk.metrics\n",
      "from nltk.classify import NaiveBayesClassifier\n",
      "from nltk.corpus import movie_reviews, stopwords\n",
      "from nltk.collocations import BigramCollocationFinder\n",
      "from nltk.metrics import BigramAssocMeasures\n",
      "from nltk.probability import FreqDist, ConditionalFreqDist\n",
      "import string\n",
      "\n",
      "punc_set = set(string.punctuation)\n",
      "\n",
      "text = [i.lower() for i in movie_reviews.words() if i.lower() not in stopset and i not in punc_set]\n",
      "word_fd = FreqDist(text)\n",
      "label_word_fd = ConditionalFreqDist()\n",
      "\n",
      "text_pos = [i.lower() for i in movie_reviews.words(categories=['pos']) if i.lower() not in stopset and i not in punc_set]\n",
      "label_word_fd['pos'] = FreqDist(text_pos)\n",
      "text_pos = [i.lower() for i in movie_reviews.words(categories=['neg']) if i.lower() not in stopset and i not in punc_set]\n",
      "label_word_fd['neg'] = FreqDist(text_pos)\n",
      "\n",
      " \n",
      "pos_word_count = label_word_fd['pos'].N()\n",
      "neg_word_count = label_word_fd['neg'].N()\n",
      "total_word_count = pos_word_count + neg_word_count\n",
      " \n",
      "word_scores = {}\n",
      " \n",
      "for word, freq in word_fd.iteritems():\n",
      "    pos_score = BigramAssocMeasures.chi_sq(label_word_fd['pos'][word],\n",
      "        (freq, pos_word_count), total_word_count)\n",
      "    neg_score = BigramAssocMeasures.chi_sq(label_word_fd['neg'][word],\n",
      "        (freq, neg_word_count), total_word_count)\n",
      "    word_scores[word] = pos_score + neg_score\n",
      " \n",
      "best = sorted(word_scores.iteritems(), key=lambda (w,s): s, reverse=True)[:10000]\n",
      "bestwords = set([w for w, s in best])\n",
      " \n",
      "def best_word_feats(words):\n",
      "    return dict([(word, True) for word in words if word in bestwords])\n",
      "  \n",
      "print 'evaluating best word features'\n",
      "evaluate_classifier(best_word_feats)\n",
      " \n",
      "def best_bigram_word_feats(words, score_fn=BigramAssocMeasures.chi_sq, n=200):\n",
      "    bigram_finder = BigramCollocationFinder.from_words(words)\n",
      "    bigrams = bigram_finder.nbest(score_fn, n)\n",
      "    d = dict([(bigram, True) for bigram in bigrams])\n",
      "    d.update(best_word_feats(words))\n",
      "    return d\n",
      " \n",
      "print 'evaluating best words + bigram chi_sq word features'\n",
      "evaluate_classifier(best_bigram_word_feats)"
     ],
     "language": "python",
     "metadata": {},
     "outputs": [
      {
       "output_type": "stream",
       "stream": "stdout",
       "text": [
        "evaluating best word features\n",
        "accuracy:"
       ]
      },
      {
       "output_type": "stream",
       "stream": "stdout",
       "text": [
        " 0.924\n",
        "pos precision: 0.881294964029\n",
        "pos recall: 0.98\n",
        "pos F-measure: 0.92803030303\n",
        "neg precision: 0.977477477477\n",
        "neg recall: 0.868\n",
        "neg F-measure: 0.919491525424\n",
        "Most Informative Features\n",
        "             magnificent = True              pos : neg    =     15.0 : 1.0"
       ]
      },
      {
       "output_type": "stream",
       "stream": "stdout",
       "text": [
        "\n",
        "             outstanding = True              pos : neg    =     13.6 : 1.0\n",
        "               insulting = True              neg : pos    =     13.0 : 1.0\n",
        "              vulnerable = True              pos : neg    =     12.3 : 1.0\n",
        "               ludicrous = True              neg : pos    =     11.8 : 1.0\n",
        "                  avoids = True              pos : neg    =     11.7 : 1.0\n",
        "             uninvolving = True              neg : pos    =     11.7 : 1.0\n",
        "              astounding = True              pos : neg    =     10.3 : 1.0\n",
        "             fascination = True              pos : neg    =     10.3 : 1.0\n",
        "                 idiotic = True              neg : pos    =      9.8 : 1.0\n",
        "evaluating best words + bigram chi_sq word features"
       ]
      },
      {
       "output_type": "stream",
       "stream": "stdout",
       "text": [
        "\n",
        "accuracy:"
       ]
      },
      {
       "output_type": "stream",
       "stream": "stdout",
       "text": [
        " 0.922\n",
        "pos precision: 0.916996047431\n",
        "pos recall: 0.928\n",
        "pos F-measure: 0.922465208748\n",
        "neg precision: 0.927125506073\n",
        "neg recall: 0.916\n",
        "neg F-measure: 0.92152917505\n",
        "Most Informative Features\n",
        "             magnificent = True              pos : neg    =     15.0 : 1.0"
       ]
      },
      {
       "output_type": "stream",
       "stream": "stdout",
       "text": [
        "\n",
        "             outstanding = True              pos : neg    =     13.6 : 1.0\n",
        "               insulting = True              neg : pos    =     13.0 : 1.0\n",
        "     (u'matt', u'damon') = True              pos : neg    =     12.3 : 1.0\n",
        "              vulnerable = True              pos : neg    =     12.3 : 1.0\n",
        "        (u'give', u'us') = True              neg : pos    =     12.3 : 1.0\n",
        "               ludicrous = True              neg : pos    =     11.8 : 1.0\n",
        "             uninvolving = True              neg : pos    =     11.7 : 1.0\n",
        "                  avoids = True              pos : neg    =     11.7 : 1.0\n",
        "  (u'absolutely', u'no') = True              neg : pos    =     10.6 : 1.0\n"
       ]
      }
     ],
     "prompt_number": 54
    },
    {
     "cell_type": "code",
     "collapsed": false,
     "input": [
      "def data_clean(text):\n",
      "    # split content into sencetence\n",
      "    # based on the character\n",
      "    # if (re.search(\"(\\[.*\\])\", text)):\n",
      "    # \tsentences = re.compile(\"(\\[.*\\])\").split(text)\n",
      "    sentences = sent_tokenize(text)\n",
      "    for sentence in sentences:\n",
      "        words = word_tokenizer(sentence)\n",
      "    # stem the word"
     ],
     "language": "python",
     "metadata": {},
     "outputs": [
      {
       "metadata": {},
       "output_type": "pyout",
       "prompt_number": 3,
       "text": [
        "['BlanklineTokenizer',\n",
        " 'LineTokenizer',\n",
        " 'MWETokenizer',\n",
        " 'PunktSentenceTokenizer',\n",
        " 'RegexpTokenizer',\n",
        " 'SExprTokenizer',\n",
        " 'SpaceTokenizer',\n",
        " 'StanfordSegmenter',\n",
        " 'StanfordTokenizer',\n",
        " 'TabTokenizer',\n",
        " 'TextTilingTokenizer',\n",
        " 'TreebankWordTokenizer',\n",
        " 'TweetTokenizer',\n",
        " 'WhitespaceTokenizer',\n",
        " 'WordPunctTokenizer',\n",
        " '__builtins__',\n",
        " '__doc__',\n",
        " '__file__',\n",
        " '__name__',\n",
        " '__package__',\n",
        " '__path__',\n",
        " '_treebank_word_tokenize',\n",
        " 'api',\n",
        " 'blankline_tokenize',\n",
        " 'casual',\n",
        " 'casual_tokenize',\n",
        " 'line_tokenize',\n",
        " 'load',\n",
        " 'mwe',\n",
        " 'punkt',\n",
        " 'regexp',\n",
        " 'regexp_span_tokenize',\n",
        " 'regexp_tokenize',\n",
        " 'sent_tokenize',\n",
        " 'sexpr',\n",
        " 'sexpr_tokenize',\n",
        " 'simple',\n",
        " 'stanford',\n",
        " 'stanford_segmenter',\n",
        " 'string_span_tokenize',\n",
        " 'texttiling',\n",
        " 'treebank',\n",
        " 'util',\n",
        " 'word_tokenize',\n",
        " 'wordpunct_tokenize']"
       ]
      }
     ],
     "prompt_number": 3
    },
    {
     "cell_type": "markdown",
     "metadata": {},
     "source": [
      "# SVM"
     ]
    },
    {
     "cell_type": "code",
     "collapsed": false,
     "input": [
      "from sklearn.feature_extraction.text import TfidfVectorizer\n",
      "from sklearn import svm\n",
      "from sklearn.metrics import classification_report\n",
      "\n",
      "data_dir = sys.argv[1]\n",
      "classes = ['pos', 'neg']\n",
      "\n",
      "\n",
      "from nltk.corpus import movie_reviews\n",
      "\n",
      "negids = movie_reviews.fileids('neg')\n",
      "posids = movie_reviews.fileids('pos')\n",
      "\n",
      "pos_reviews = [movie_reviews.raw(fileids=[f]) for f in posids]\n",
      "neg_reviews = [movie_reviews.raw(fileids=[f]) for f in negids]\n",
      "\n",
      "# Read the data\n",
      "train_data = pos_reviews[:750] + neg_reviews[:750]\n",
      "train_labels = [1 for i in range(750)] + [0 for i in range(750)]\n",
      "test_data = pos_reviews[750:] + neg_reviews[750:]\n",
      "test_labels = [1 for i in range(250)] + [0 for i in range(25)]\n",
      "\n",
      "# Create feature vectors\n",
      "vectorizer = TfidfVectorizer(min_df=5,\n",
      "                             max_df = 0.8,\n",
      "                             sublinear_tf=True,\n",
      "                             use_idf=True)\n",
      "train_vectors = vectorizer.fit_transform(train_data)\n",
      "test_vectors = vectorizer.transform(test_data)\n",
      "\n",
      "# Perform classification with SVM, kernel=rbf\n",
      "classifier_rbf = svm.SVC()\n",
      "t0 = time.time()\n",
      "classifier_rbf.fit(train_vectors, train_labels)\n",
      "t1 = time.time()\n",
      "prediction_rbf = classifier_rbf.predict(test_vectors)\n",
      "t2 = time.time()\n",
      "time_linear_train = t1-t0\n",
      "time_linear_predict = t2-t1\n",
      "\n",
      "# Perform classification with SVM, kernel=linear\n",
      "classifier_linear = svm.SVC(kernel='linear')\n",
      "t0 = time.time()\n",
      "classifier_linear.fit(train_vectors, train_labels)\n",
      "t1 = time.time()\n",
      "prediction_linear = classifier_linear.predict(test_vectors)\n",
      "t2 = time.time()\n",
      "time_linear_train = t1-t0\n",
      "time_linear_predict = t2-t1\n",
      "\n",
      "# Perform classification with SVM, kernel=linear\n",
      "classifier_liblinear = svm.LinearSVC()\n",
      "t0 = time.time()\n",
      "classifier_liblinear.fit(train_vectors, train_labels)\n",
      "t1 = time.time()\n",
      "prediction_liblinear = classifier_liblinear.predict(test_vectors)\n",
      "t2 = time.time()\n",
      "time_liblinear_train = t1-t0\n",
      "time_liblinear_predict = t2-t1\n",
      "\n",
      "# Print results in a nice table\n",
      "print(\"Results for SVC(kernel=rbf)\")\n",
      "print(\"Training time: %fs; Prediction time: %fs\" % (time_rbf_train, time_rbf_predict))\n",
      "print(classification_report(test_labels, prediction_rbf))\n",
      "print(\"Results for SVC(kernel=linear)\")\n",
      "print(\"Training time: %fs; Prediction time: %fs\" % (time_linear_train, time_linear_predict))\n",
      "print(classification_report(test_labels, prediction_linear))\n",
      "print(\"Results for LinearSVC()\")\n",
      "print(\"Training time: %fs; Prediction time: %fs\" % (time_liblinear_train, time_liblinear_predict))\n",
      "print(classification_report(test_labels, prediction_liblinear))"
     ],
     "language": "python",
     "metadata": {},
     "outputs": []
    },
    {
     "cell_type": "markdown",
     "metadata": {},
     "source": [
      "# Doc2Vec"
     ]
    },
    {
     "cell_type": "code",
     "collapsed": false,
     "input": [
      "import gensim\n",
      "\n",
      "LabeledSentence = gensim.models.doc2vec.LabeledSentence\n",
      "\n",
      "from sklearn.cross_validation import train_test_split\n",
      "\n",
      "from nltk.corpus import movie_reviews\n",
      "\n",
      "negids = movie_reviews.fileids('neg')\n",
      "posids = movie_reviews.fileids('pos')\n",
      "\n",
      "pos_reviews = [movie_reviews.raw(fileids=[f]) for f in posids]\n",
      "neg_reviews = [movie_reviews.raw(fileids=[f]) for f in negids]\n",
      "\n",
      "y = np.concatenate((np.ones(len(pos_reviews)), np.zeros(len(neg_reviews))))\n",
      "x_train, x_test, y_train, y_test = train_test_split(np.concatenate((pos_reviews, neg_reviews)), y, test_size=0.2)\n",
      "\n",
      "\n",
      "#Do some very minor text preprocessing\n",
      "def cleanText(corpus):\n",
      "    punctuation = \"\"\".,?!:;(){}[]\"\"\"\n",
      "    corpus = [z.lower().replace('\\n','') for z in corpus]\n",
      "    corpus = [z.replace('<br />', ' ') for z in corpus]\n",
      "\n",
      "    #treat punctuation as individual words\n",
      "    for c in punctuation:\n",
      "        corpus = [z.replace(c, ' %s '%c) for z in corpus]\n",
      "    corpus = [z.split() for z in corpus]\n",
      "    return corpus\n",
      "\n",
      "x_train = cleanText(x_train)\n",
      "x_test = cleanText(x_test)\n",
      "# unsup_reviews = cleanText(unsup_reviews)\n",
      "\n",
      "def labelizeReviews(reviews, label_type):\n",
      "    labelized = []\n",
      "    for i,v in enumerate(reviews):\n",
      "        label = '%s_%s'%(label_type,i)\n",
      "        labelized.append(LabeledSentence(v, [label]))\n",
      "    return labelized\n",
      "\n",
      "x_train = labelizeReviews(x_train, 'TRAIN')\n",
      "x_test = labelizeReviews(x_test, 'TEST')\n",
      "# unsup_reviews = labelizeReviews(unsup_reviews, 'UNSUP')"
     ],
     "language": "python",
     "metadata": {},
     "outputs": [],
     "prompt_number": 67
    },
    {
     "cell_type": "code",
     "collapsed": false,
     "input": [
      "model_dm = gensim.models.Doc2Vec(min_count=1, window=10, size=size, sample=1e-3, negative=5, workers=3)\n",
      "model_dm.build_vocab(x_train + x_test)"
     ],
     "language": "python",
     "metadata": {},
     "outputs": [],
     "prompt_number": 73
    },
    {
     "cell_type": "code",
     "collapsed": false,
     "input": [
      "all_train_reviews = np.array(x_train)\n",
      "for epoch in range(10):\n",
      "    perm = np.random.permutation(all_train_reviews.shape[0])\n",
      "    model_dm.train(all_train_reviews[perm])"
     ],
     "language": "python",
     "metadata": {},
     "outputs": []
    },
    {
     "cell_type": "code",
     "collapsed": false,
     "input": [],
     "language": "python",
     "metadata": {},
     "outputs": []
    },
    {
     "cell_type": "code",
     "collapsed": false,
     "input": [
      "y[0]"
     ],
     "language": "python",
     "metadata": {},
     "outputs": [
      {
       "metadata": {},
       "output_type": "pyout",
       "prompt_number": 62,
       "text": [
        "1.0"
       ]
      }
     ],
     "prompt_number": 62
    }
   ],
   "metadata": {}
  }
 ]
}