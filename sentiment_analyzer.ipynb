{
 "metadata": {
  "name": "",
  "signature": "sha256:6af8244317170f8d42fa2cf0f234dca18d883af66e2d566b8c33a25b963eda06"
 },
 "nbformat": 3,
 "nbformat_minor": 0,
 "worksheets": [
  {
   "cells": [
    {
     "cell_type": "markdown",
     "metadata": {},
     "source": [
      "For video subtitles\n",
      "- seperate the paragraph by different opinion holder"
     ]
    },
    {
     "cell_type": "code",
     "collapsed": false,
     "input": [],
     "language": "python",
     "metadata": {},
     "outputs": []
    },
    {
     "cell_type": "code",
     "collapsed": false,
     "input": [],
     "language": "python",
     "metadata": {},
     "outputs": []
    },
    {
     "cell_type": "code",
     "collapsed": false,
     "input": [],
     "language": "python",
     "metadata": {},
     "outputs": []
    },
    {
     "cell_type": "code",
     "collapsed": false,
     "input": [
      "from nltk.sentiment import SentimentAnalyzer\n",
      "from nltk.sentiment.util import *\n",
      "from nltk.corpus import subjectivity\n",
      "from nltk.classify import NaiveBayesClassifier"
     ],
     "language": "python",
     "metadata": {},
     "outputs": [],
     "prompt_number": 79
    },
    {
     "cell_type": "code",
     "collapsed": false,
     "input": [
      "n_instances = 1000\n",
      "subj_docs = [(sent, 'subj') for sent in subjectivity.sents(categories='subj')[:n_instances]]\n",
      "obj_docs = [(sent, 'obj') for sent in subjectivity.sents(categories='obj')[:n_instances]]\n",
      "len(subj_docs), len(obj_docs)"
     ],
     "language": "python",
     "metadata": {},
     "outputs": [
      {
       "metadata": {},
       "output_type": "pyout",
       "prompt_number": 80,
       "text": [
        "(1000, 1000)"
       ]
      }
     ],
     "prompt_number": 80
    },
    {
     "cell_type": "code",
     "collapsed": false,
     "input": [
      "train_subj_docs = subj_docs[:80]\n",
      "test_subj_docs = subj_docs[80:100]\n",
      "train_obj_docs = obj_docs[:80]\n",
      "test_obj_docs = obj_docs[80:100]\n",
      "training_docs = train_subj_docs + train_obj_docs\n",
      "testing_docs = test_subj_docs + test_obj_docs\n",
      "\n",
      "sentim_analyzer = SentimentAnalyzer()\n",
      "all_words_neg = sentim_analyzer.all_words([mark_negation(doc) for doc in training_docs])\n"
     ],
     "language": "python",
     "metadata": {},
     "outputs": [],
     "prompt_number": 81
    },
    {
     "cell_type": "code",
     "collapsed": false,
     "input": [
      "unigram_feats = sentim_analyzer.unigram_word_feats(all_words_neg, min_freq=4)\n",
      "len(unigram_feats)"
     ],
     "language": "python",
     "metadata": {},
     "outputs": [
      {
       "metadata": {},
       "output_type": "pyout",
       "prompt_number": 82,
       "text": [
        "83"
       ]
      }
     ],
     "prompt_number": 82
    },
    {
     "cell_type": "code",
     "collapsed": false,
     "input": [
      "sentim_analyzer.add_feat_extractor(extract_unigram_feats, unigrams=unigram_feats)"
     ],
     "language": "python",
     "metadata": {},
     "outputs": [],
     "prompt_number": 83
    },
    {
     "cell_type": "code",
     "collapsed": false,
     "input": [
      "training_set = sentim_analyzer.apply_features(training_docs)\n",
      "test_set = sentim_analyzer.apply_features(testing_docs)"
     ],
     "language": "python",
     "metadata": {},
     "outputs": [],
     "prompt_number": 84
    },
    {
     "cell_type": "code",
     "collapsed": false,
     "input": [
      "trainer = NaiveBayesClassifier.train\n",
      "classifier = sentim_analyzer.train(trainer, training_set)\n",
      "for key,value in sorted(sentim_analyzer.evaluate(test_set).items()):\n",
      "    print('{0}: {1}'.format(key, value))"
     ],
     "language": "python",
     "metadata": {},
     "outputs": [
      {
       "output_type": "stream",
       "stream": "stdout",
       "text": [
        "Training classifier\n",
        "Evaluating NaiveBayesClassifier results...\n",
        "Accuracy: 0.8"
       ]
      },
      {
       "output_type": "stream",
       "stream": "stdout",
       "text": [
        "\n",
        "F-measure [obj]: 0.8\n",
        "F-measure [subj]: 0.8\n",
        "Precision [obj]: 0.8\n",
        "Precision [subj]: 0.8\n",
        "Recall [obj]: 0.8\n",
        "Recall [subj]: 0.8\n"
       ]
      }
     ],
     "prompt_number": 85
    },
    {
     "cell_type": "markdown",
     "metadata": {},
     "source": [
      "# CoreNLP"
     ]
    },
    {
     "cell_type": "code",
     "collapsed": false,
     "input": [
      "import codecs\n",
      "def txt_to_test_data(filename):\n",
      "    with open(filename) as f:\n",
      "        content = f.readlines()\n",
      "    sentences = []\n",
      "    labels = []\n",
      "    for line in content:\n",
      "        temp = line.split()\n",
      "        sentence = ' '.join(temp[:-1])\n",
      "        label = temp[-1]\n",
      "        sentences.append(sentence)\n",
      "        labels.append(label)\n",
      "    return sentences, labels\n",
      "\n",
      "amazon_sentences, amazon_labels = txt_to_test_data(\"/vagrant/data/sentiment-labelled-sentences/amazon_cells_labelled.txt\")\n",
      "yelp_sentences, yelp_labels = txt_to_test_data(\"/vagrant/data/sentiment-labelled-sentences/yelp_labelled.txt\")\n",
      "imdb_sentences, imdb_labels = txt_to_test_data(\"/vagrant/data/sentiment-labelled-sentences/imdb_labelled.txt\")\n"
     ],
     "language": "python",
     "metadata": {},
     "outputs": [],
     "prompt_number": 29
    },
    {
     "cell_type": "code",
     "collapsed": false,
     "input": [
      "# set default encoding as utf8\n",
      "# !!! Dangerous\n",
      "# make sure store your output\n",
      "import sys  \n",
      "\n",
      "# store notebook output\n",
      "nb_stdout = sys.stdout\n",
      "\n",
      "reload(sys)  \n",
      "sys.setdefaultencoding('utf8')"
     ],
     "language": "python",
     "metadata": {},
     "outputs": [],
     "prompt_number": 19
    },
    {
     "cell_type": "code",
     "collapsed": false,
     "input": [
      "from pycorenlp import StanfordCoreNLP\n",
      "nlp = StanfordCoreNLP('http://localhost:9000')\n",
      "\n",
      "def corenlp_predict(sentences):\n",
      "    corenlp_pred = []\n",
      "    for sentence in sentences:\n",
      "        res = nlp.annotate(sentence,\n",
      "                           properties={\n",
      "                            'annotators' : 'tokenize sentiment',\n",
      "                            'outputFormat': 'json'\n",
      "                            })\n",
      "        sentiment_count = 0\n",
      "        cnt = 0\n",
      "        for s in res[\"sentences\"]:\n",
      "            sentiment_count += float(s[\"sentimentValue\"])\n",
      "            cnt += 1\n",
      "        if sentiment_count / cnt == float(2):\n",
      "            corenlp_pred.append('2')\n",
      "        elif sentiment_count / cnt < 2:\n",
      "            corenlp_pred.append('0')\n",
      "        elif sentiment_count / cnt > 2:\n",
      "            corenlp_pred.append('1')\n",
      "    return corenlp_pred"
     ],
     "language": "python",
     "metadata": {},
     "outputs": [],
     "prompt_number": 26
    },
    {
     "cell_type": "code",
     "collapsed": false,
     "input": [
      "amazon_corenlp_pred = corenlp_predict(amazon_sentences)"
     ],
     "language": "python",
     "metadata": {},
     "outputs": [],
     "prompt_number": 24
    },
    {
     "cell_type": "code",
     "collapsed": false,
     "input": [
      "yelp_corenlp_pred = corenlp_predict(yelp_sentences)"
     ],
     "language": "python",
     "metadata": {},
     "outputs": [],
     "prompt_number": 28
    },
    {
     "cell_type": "code",
     "collapsed": false,
     "input": [
      "imdb_corenlp_pred = corenlp_predict(imdb_sentences)"
     ],
     "language": "python",
     "metadata": {},
     "outputs": [],
     "prompt_number": 78
    },
    {
     "cell_type": "code",
     "collapsed": false,
     "input": [
      "# save predic result\n",
      "# with open('/vagrant/data/result/corenlp/amazon_pred.txt', 'w') as f:\n",
      "#     for i in amazon_corenlp_pred:\n",
      "#         f.write(\"%s\\n\" %i)\n",
      "\n",
      "# with open('/vagrant/data/result/corenlp/yelp_pred.txt', 'w') as f:\n",
      "#     for i in yelp_corenlp_pred:\n",
      "#         f.write(\"%s\\n\" %i)\n",
      "\n",
      "# with open('/vagrant/data/result/corenlp/imdb_pred.txt', 'w') as f:\n",
      "#     for i in imdb_corenlp_pred:\n",
      "#         f.write(\"%s\\n\" %i)"
     ],
     "language": "python",
     "metadata": {},
     "outputs": [],
     "prompt_number": 8
    },
    {
     "cell_type": "code",
     "collapsed": false,
     "input": [
      "# read pred results\n",
      "# def read_pred_file(filename):\n",
      "#     l = []\n",
      "#     with open(filename) as f:\n",
      "#         content = f.readlines()\n",
      "#         for line in content:\n",
      "#             l.append(line[0])\n",
      "#     return l\n",
      "# amazon_corenlp_pred = read_pred_file('/vagrant/data/result/corenlp/amazon_pred.txt')\n",
      "# yelp_corenlp_pred = read_pred_file('/vagrant/data/result/corenlp/yelp_pred.txt')\n",
      "# imdb_corenlp_pred = read_pred_file('/vagrant/data/result/corenlp/imdb_pred.txt')"
     ],
     "language": "python",
     "metadata": {},
     "outputs": [],
     "prompt_number": 3
    },
    {
     "cell_type": "code",
     "collapsed": false,
     "input": [
      "# if stdout change, restore the output to notebook\n",
      "# import sys\n",
      "# sys.stdout = open('/dev/nb_stdout', 'w')\n",
      "\n",
      "from sklearn.metrics import f1_score, accuracy_score\n",
      "print \"Amazon Evaluation\"\n",
      "print f1_score(amazon_labels, amazon_corenlp_pred, average='weighted')\n",
      "print accuracy_score(amazon_labels, amazon_corenlp_pred)\n",
      "print '\\n'\n",
      "\n",
      "print \"Yelp Evaluation\"\n",
      "print f1_score(yelp_labels, yelp_corenlp_pred, average='weighted')\n",
      "print accuracy_score(yelp_labels, yelp_corenlp_pred)\n",
      "print '\\n'\n",
      "\n",
      "print \"Imdb Evaluation\"\n",
      "print f1_score(imdb_labels, imdb_corenlp_pred, average='weighted')\n",
      "print accuracy_score(imdb_labels, imdb_corenlp_pred)\n",
      "print '\\n'"
     ],
     "language": "python",
     "metadata": {},
     "outputs": [
      {
       "output_type": "stream",
       "stream": "stdout",
       "text": [
        "Amazon Evaluation\n",
        "0.793716959279\n",
        "0.741\n",
        "\n",
        "\n",
        "Yelp Evaluation\n",
        "0.802834657014\n",
        "0.758\n",
        "\n",
        "\n",
        "Imdb Evaluation\n",
        "0.840763396134\n",
        "0.807\n",
        "\n",
        "\n"
       ]
      },
      {
       "output_type": "stream",
       "stream": "stderr",
       "text": [
        "/usr/local/lib/python2.7/dist-packages/sklearn/metrics/classification.py:1115: UndefinedMetricWarning: F-score is ill-defined and being set to 0.0 in labels with no true samples.\n",
        "  'recall', 'true', average, warn_for)\n"
       ]
      }
     ],
     "prompt_number": 7
    },
    {
     "cell_type": "code",
     "collapsed": false,
     "input": [
      "# Example\n",
      "for s in res[\"sentences\"]:\n",
      "    print \"%d: '%s': %s %s\" % (\n",
      "        s[\"index\"],\n",
      "        \" \".join([t[\"word\"] for t in s[\"tokens\"]]),\n",
      "        s[\"sentimentValue\"], s[\"sentiment\"])\n",
      " "
     ],
     "language": "python",
     "metadata": {},
     "outputs": [
      {
       "output_type": "stream",
       "stream": "stdout",
       "text": [
        "0: 'So there is no way for me to plug it in here in the US unless I go by a converter .': 1 Negative\n"
       ]
      }
     ],
     "prompt_number": 13
    },
    {
     "cell_type": "markdown",
     "metadata": {},
     "source": [
      "# VADER (Valence Aware Dictionary and sEntiment Reasoner)\n",
      "\n",
      "lexicon and rule-based "
     ]
    },
    {
     "cell_type": "code",
     "collapsed": false,
     "input": [
      "from nltk.sentiment.vader import SentimentIntensityAnalyzer\n",
      "sid = SentimentIntensityAnalyzer()\n",
      "\n",
      "def vader_predict(sentences):\n",
      "    vader_pred = []\n",
      "    for sentence in sentences:\n",
      "        ss = sid.polarity_scores(sentence)\n",
      "        if ss['compound'] == 0:\n",
      "            vader_pred.append('2')\n",
      "        elif ss['compound'] < 0:\n",
      "            vader_pred.append('0')\n",
      "        elif ss['compound'] > 0:\n",
      "            vader_pred.append('1')\n",
      "    return vader_pred\n",
      "\n",
      "vader_amazon_pred = vader_predict(amazon_sentences)\n",
      "vader_yelp_pred = vader_predict(yelp_sentences)\n",
      "vader_imdb_pred = vader_predict(imdb_sentences)"
     ],
     "language": "python",
     "metadata": {},
     "outputs": [
      {
       "output_type": "stream",
       "stream": "stderr",
       "text": [
        "/usr/local/lib/python2.7/dist-packages/nltk/twitter/__init__.py:20: UserWarning: The twython library has not been installed. Some functionality from the twitter package will not be available.\n",
        "  warnings.warn(\"The twython library has not been installed. \"\n"
       ]
      }
     ],
     "prompt_number": 31
    },
    {
     "cell_type": "code",
     "collapsed": false,
     "input": [
      "from sklearn.metrics import f1_score, accuracy_score\n",
      "print \"Amazon Evaluation\"\n",
      "print f1_score(amazon_labels, vader_amazon_pred, average='weighted')\n",
      "print accuracy_score(amazon_labels, vader_amazon_pred)\n",
      "print '\\n'\n",
      "\n",
      "print \"Yelp Evaluation\"\n",
      "print f1_score(yelp_labels, vader_yelp_pred, average='weighted')\n",
      "print accuracy_score(yelp_labels, vader_yelp_pred)\n",
      "print '\\n'\n",
      "\n",
      "print \"Imdb Evaluation\"\n",
      "print f1_score(imdb_labels, vader_imdb_pred, average='weighted')\n",
      "print accuracy_score(imdb_labels, vader_imdb_pred)\n"
     ],
     "language": "python",
     "metadata": {},
     "outputs": [
      {
       "output_type": "stream",
       "stream": "stdout",
       "text": [
        "Amazon Evaluation\n",
        "0.75769186114\n",
        "0.679\n",
        "\n",
        "\n",
        "Yelp Evaluation\n",
        "0.721432519418\n",
        "0.645\n",
        "\n",
        "\n",
        "Imdb Evaluation\n",
        "0.752129223853\n",
        "0.69\n"
       ]
      }
     ],
     "prompt_number": 50
    },
    {
     "cell_type": "code",
     "collapsed": false,
     "input": [
      "from nltk.corpus import movie_reviews\n",
      "negids = movie_reviews.fileids('neg')\n",
      "posids = movie_reviews.fileids('pos')\n",
      "\n",
      "pos_paragraphs = []\n",
      "neg_paragraphs = []\n",
      "for id in posids:\n",
      "    pos_paragraphs.append(movie_reviews.raw(fileids=[id]))\n",
      "for id in negids:\n",
      "    neg_paragraphs.append(movie_reviews.raw(fileids=[id]))"
     ],
     "language": "python",
     "metadata": {},
     "outputs": [],
     "prompt_number": 37
    },
    {
     "cell_type": "code",
     "collapsed": false,
     "input": [
      "vader_paragraph_predict = vader_predict(pos_paragraphs + neg_paragraphs)"
     ],
     "language": "python",
     "metadata": {},
     "outputs": [],
     "prompt_number": 38
    },
    {
     "cell_type": "code",
     "collapsed": false,
     "input": [
      "movie_review_labels = ['1' for i in xrange(1000)] + ['0' for i in xrange(1000)]\n",
      "from sklearn.metrics import f1_score, accuracy_score\n",
      "print \"Movie Review Evaluation\"\n",
      "print f1_score(movie_review_labels, vader_paragraph_predict, average='weighted')\n",
      "print accuracy_score(movie_review_labels, vader_paragraph_predict)\n",
      "print '\\n'"
     ],
     "language": "python",
     "metadata": {},
     "outputs": [
      {
       "output_type": "stream",
       "stream": "stdout",
       "text": [
        "Movie Review Evaluation\n",
        "0.622662172869\n",
        "0.6365\n",
        "\n",
        "\n"
       ]
      }
     ],
     "prompt_number": 44
    },
    {
     "cell_type": "code",
     "collapsed": false,
     "input": [
      "# other test data\n",
      "\n",
      "\n",
      "from nltk.sentiment.vader import SentimentIntensityAnalyzer\n",
      "sentences = [\"VADER is smart, handsome, and funny.\", # positive sentence example\n",
      "   \"VADER is smart, handsome, and funny!\", # punctuation emphasis handled correctly (sentiment intensity adjusted)\n",
      "   \"VADER is very smart, handsome, and funny.\",  # booster words handled correctly (sentiment intensity adjusted)\n",
      "   \"VADER is VERY SMART, handsome, and FUNNY.\",  # emphasis for ALLCAPS handled\n",
      "   \"VADER is VERY SMART, handsome, and FUNNY!!!\",# combination of signals - VADER appropriately adjusts intensity\n",
      "   \"VADER is VERY SMART, really handsome, and INCREDIBLY FUNNY!!!\",# booster words & punctuation make this close to ceiling for score\n",
      "   \"The book was good.\",         # positive sentence\n",
      "   \"The book was kind of good.\", # qualified positive sentence is handled correctly (intensity adjusted)\n",
      "   \"The plot was good, but the characters are uncompelling and the dialog is not great.\", # mixed negation sentence\n",
      "   \"A really bad, horrible book.\",       # negative sentence with booster words\n",
      "   \"At least it isn't a horrible book.\", # negated negative sentence with contraction\n",
      "   \":) and :D\",     # emoticons handled\n",
      "   \"\",              # an empty string is correctly handled\n",
      "   \"Today sux\",     #  negative slang handled\n",
      "   \"Today sux!\",    #  negative slang with punctuation emphasis handled\n",
      "   \"Today SUX!\",    #  negative slang with capitalization emphasis\n",
      "   \"Today kinda sux! But I'll get by, lol\" # mixed sentiment example with slang and constrastive conjunction \"but\"\n",
      "]\n",
      "\n",
      "paragraph = \"It was one of the worst movies I've seen, despite good reviews. \\\n",
      "Unbelievably bad acting!! Poor direction. VERY poor production. \\\n",
      "The movie was bad. Very bad movie. VERY bad movie. VERY BAD movie. VERY BAD movie!\"\n",
      "\n",
      "tricky_sentences = [\n",
      "   \"Most automated sentiment analysis tools are shit.\",\n",
      "   \"VADER sentiment analysis is the shit.\",\n",
      "   \"Sentiment analysis has never been good.\",\n",
      "   \"Sentiment analysis with VADER has never been this good.\",\n",
      "   \"Warren Beatty has never been so entertaining.\",\n",
      "   \"I won't say that the movie is astounding and I wouldn't claim that \\\n",
      "   the movie is too banal either.\",\n",
      "   \"I like to hate Michael Bay films, but I couldn't fault this one\",\n",
      "   \"It's one thing to watch an Uwe Boll film, but another thing entirely \\\n",
      "   to pay for it\",\n",
      "   \"The movie was too good\",\n",
      "   \"This movie was actually neither that funny, nor super witty.\",\n",
      "   \"This movie doesn't care about cleverness, wit or any other kind of \\\n",
      "   intelligent humor.\",\n",
      "   \"Those who find ugly meanings in beautiful things are corrupt without \\\n",
      "   being charming.\",\n",
      "   \"There are slow and repetitive parts, BUT it has just enough spice to \\\n",
      "   keep it interesting.\",\n",
      "   \"The script is not fantastic, but the acting is decent and the cinematography \\\n",
      "   is EXCELLENT!\",\n",
      "   \"Roger Dodger is one of the most compelling variations on this theme.\",\n",
      "   \"Roger Dodger is one of the least compelling variations on this theme.\",\n",
      "   \"Roger Dodger is at least compelling as a variation on the theme.\",\n",
      "   \"they fall in love with the product\",\n",
      "   \"but then it breaks\",\n",
      "   \"usually around the time the 90 day warranty expires\",\n",
      "   \"the twin towers collapsed today\",\n",
      "   \"However, Mr. Carter solemnly argues, his client carried out the kidnapping \\\n",
      "   under orders and in the ''least offensive way possible.''\"\n",
      "]"
     ],
     "language": "python",
     "metadata": {},
     "outputs": [],
     "prompt_number": 53
    },
    {
     "cell_type": "code",
     "collapsed": false,
     "input": [
      "test = \"Coke is better than Pepsi, but they\u2019re both worse than Dr Pepper\"\n",
      "sid = SentimentIntensityAnalyzer()\n",
      "ss = sid.polarity_scores(test)\n",
      "print ss"
     ],
     "language": "python",
     "metadata": {},
     "outputs": [
      {
       "output_type": "stream",
       "stream": "stdout",
       "text": [
        "{'neg': 0.258, 'neu': 0.621, 'pos': 0.121, 'compound': -0.4939}\n"
       ]
      }
     ],
     "prompt_number": 86
    },
    {
     "cell_type": "markdown",
     "metadata": {},
     "source": [
      "# SentiWordNet\n"
     ]
    },
    {
     "cell_type": "code",
     "collapsed": false,
     "input": [
      "from nltk.corpus import sentiwordnet as swn\n",
      "breakdown = swn.senti_synset('breakdown.n.03')"
     ],
     "language": "python",
     "metadata": {},
     "outputs": [],
     "prompt_number": 66
    },
    {
     "cell_type": "code",
     "collapsed": false,
     "input": [
      "print breakdown"
     ],
     "language": "python",
     "metadata": {},
     "outputs": [
      {
       "output_type": "stream",
       "stream": "stdout",
       "text": [
        "<breakdown.n.03: PosScore=0.0 NegScore=0.25>\n"
       ]
      }
     ],
     "prompt_number": 64
    },
    {
     "cell_type": "code",
     "collapsed": false,
     "input": [],
     "language": "python",
     "metadata": {},
     "outputs": []
    },
    {
     "cell_type": "code",
     "collapsed": false,
     "input": [],
     "language": "python",
     "metadata": {},
     "outputs": []
    },
    {
     "cell_type": "code",
     "collapsed": false,
     "input": [],
     "language": "python",
     "metadata": {},
     "outputs": []
    },
    {
     "cell_type": "code",
     "collapsed": false,
     "input": [],
     "language": "python",
     "metadata": {},
     "outputs": []
    },
    {
     "cell_type": "markdown",
     "metadata": {},
     "source": [
      "# Naive Bayes Classify"
     ]
    },
    {
     "cell_type": "markdown",
     "metadata": {},
     "source": [
      "## The usage of movie review data\n",
      "```python\n",
      "from nltk.corpus import movie_reviews\n",
      "```\n",
      "\n",
      "get id of negative file nad positive file\n",
      "```python\n",
      "negids = movie_reviews.fileids('neg')\n",
      "posids = movie_reviews.fileids('pos')\n",
      "```\n",
      "\n",
      "get raw content of file\n",
      "```python\n",
      "movie_reviews.raw(fileids=[id])\n",
      "```\n",
      "\n",
      "get sentence of file\n",
      "```python\n",
      "movie_reviews.sents(fileids=[id])\n",
      "```\n",
      "\n",
      "get words of file\n",
      "```python\n",
      "movie_reviews.words(fileids=[id])\n",
      "```"
     ]
    },
    {
     "cell_type": "markdown",
     "metadata": {},
     "source": [
      "## Baseline : Training with the Bag of Words \n",
      "Accuracy: 0.728"
     ]
    },
    {
     "cell_type": "code",
     "collapsed": false,
     "input": [
      "import collections\n",
      "import nltk.metrics\n",
      "from nltk.classify import NaiveBayesClassifier\n",
      "from nltk.corpus import movie_reviews, stopwords\n",
      "from nltk.metrics import scores\n",
      "from nltk.tokenize import word_tokenize, sent_tokenize\n",
      "import re\n",
      "\n",
      "stopset = set(stopwords.words('english'))\n",
      "\n",
      "def evaluate_classifier(featx):\n",
      "    negids = movie_reviews.fileids('neg')\n",
      "    posids = movie_reviews.fileids('pos')\n",
      " \n",
      "    negfeats = [(featx(movie_reviews.words(fileids=[f])), 'neg') for f in negids]\n",
      "    posfeats = [(featx(movie_reviews.words(fileids=[f])), 'pos') for f in posids]\n",
      " \n",
      "    negcutoff = len(negfeats)*3/4\n",
      "    poscutoff = len(posfeats)*3/4\n",
      " \n",
      "    trainfeats = negfeats[:negcutoff] + posfeats[:poscutoff]\n",
      "    testfeats = negfeats[negcutoff:] + posfeats[poscutoff:]\n",
      " \n",
      "    classifier = NaiveBayesClassifier.train(trainfeats)\n",
      "    refsets = collections.defaultdict(set)\n",
      "    testsets = collections.defaultdict(set)\n",
      " \n",
      "    for i, (feats, label) in enumerate(testfeats):\n",
      "            refsets[label].add(i)\n",
      "            observed = classifier.classify(feats)\n",
      "            testsets[observed].add(i)\n",
      " \n",
      "    print 'accuracy:', nltk.classify.util.accuracy(classifier, testfeats)\n",
      "    print 'pos precision:', scores.precision(refsets['pos'], testsets['pos'])\n",
      "    print 'pos recall:', scores.recall(refsets['pos'], testsets['pos'])\n",
      "    print 'pos F-measure:', scores.f_measure(refsets['pos'], testsets['pos'])\n",
      "    print 'neg precision:', scores.precision(refsets['neg'], testsets['neg'])\n",
      "    print 'neg recall:', scores.recall(refsets['neg'], testsets['neg'])\n",
      "    print 'neg F-measure:', scores.f_measure(refsets['neg'], testsets['neg'])\n",
      "\n",
      "    classifier.show_most_informative_features()"
     ],
     "language": "python",
     "metadata": {},
     "outputs": [],
     "prompt_number": 72
    },
    {
     "cell_type": "code",
     "collapsed": false,
     "input": [
      "negids = movie_reviews.fileids('neg')\n",
      "movie_reviews.raw(fileids=[negids[0]])"
     ],
     "language": "python",
     "metadata": {},
     "outputs": [
      {
       "metadata": {},
       "output_type": "pyout",
       "prompt_number": 115,
       "text": [
        "u'plot : two teen couples go to a church party , drink and then drive . \\nthey get into an accident . \\none of the guys dies , but his girlfriend continues to see him in her life , and has nightmares . \\nwhat\\'s the deal ? \\nwatch the movie and \" sorta \" find out . . . \\ncritique : a mind-fuck movie for the teen generation that touches on a very cool idea , but presents it in a very bad package . \\nwhich is what makes this review an even harder one to write , since i generally applaud films which attempt to break the mold , mess with your head and such ( lost highway & memento ) , but there are good and bad ways of making all types of films , and these folks just didn\\'t snag this one correctly . \\nthey seem to have taken this pretty neat concept , but executed it terribly . \\nso what are the problems with the movie ? \\nwell , its main problem is that it\\'s simply too jumbled . \\nit starts off \" normal \" but then downshifts into this \" fantasy \" world in which you , as an audience member , have no idea what\\'s going on . \\nthere are dreams , there are characters coming back from the dead , there are others who look like the dead , there are strange apparitions , there are disappearances , there are a looooot of chase scenes , there are tons of weird things that happen , and most of it is simply not explained . \\nnow i personally don\\'t mind trying to unravel a film every now and then , but when all it does is give me the same clue over and over again , i get kind of fed up after a while , which is this film\\'s biggest problem . \\nit\\'s obviously got this big secret to hide , but it seems to want to hide it completely until its final five minutes . \\nand do they make things entertaining , thrilling or even engaging , in the meantime ? \\nnot really . \\nthe sad part is that the arrow and i both dig on flicks like this , so we actually figured most of it out by the half-way point , so all of the strangeness after that did start to make a little bit of sense , but it still didn\\'t the make the film all that more entertaining . \\ni guess the bottom line with movies like this is that you should always make sure that the audience is \" into it \" even before they are given the secret password to enter your world of understanding . \\ni mean , showing melissa sagemiller running away from visions for about 20 minutes throughout the movie is just plain lazy ! ! \\nokay , we get it . . . there \\nare people chasing her and we don\\'t know who they are . \\ndo we really need to see it over and over again ? \\nhow about giving us different scenes offering further insight into all of the strangeness going down in the movie ? \\napparently , the studio took this film away from its director and chopped it up themselves , and it shows . \\nthere might\\'ve been a pretty decent teen mind-fuck movie in here somewhere , but i guess \" the suits \" decided that turning it into a music video with little edge , would make more sense . \\nthe actors are pretty good for the most part , although wes bentley just seemed to be playing the exact same character that he did in american beauty , only in a new neighborhood . \\nbut my biggest kudos go out to sagemiller , who holds her own throughout the entire film , and actually has you feeling her character\\'s unraveling . \\noverall , the film doesn\\'t stick because it doesn\\'t entertain , it\\'s confusing , it rarely excites and it feels pretty redundant for most of its runtime , despite a pretty cool ending and explanation to all of the craziness that came before it . \\noh , and by the way , this is not a horror or teen slasher flick . . . it\\'s \\njust packaged to look that way because someone is apparently assuming that the genre is still hot with the kids . \\nit also wrapped production two years ago and has been sitting on the shelves ever since . \\nwhatever . . . skip \\nit ! \\nwhere\\'s joblo coming from ? \\na nightmare of elm street 3 ( 7/10 ) - blair witch 2 ( 7/10 ) - the crow ( 9/10 ) - the crow : salvation ( 4/10 ) - lost highway ( 10/10 ) - memento ( 10/10 ) - the others ( 9/10 ) - stir of echoes ( 8/10 ) \\n'"
       ]
      }
     ],
     "prompt_number": 115
    },
    {
     "cell_type": "code",
     "collapsed": false,
     "input": [
      "def word_feats(words):\n",
      "    return dict([(word, True) for word in words])\n",
      " \n",
      "evaluate_classifier(word_feats)"
     ],
     "language": "python",
     "metadata": {},
     "outputs": [
      {
       "output_type": "stream",
       "stream": "stdout",
       "text": [
        "defaultdict(<type 'set'>, {'neg': set([0, 1, 2, 3, 4, 5, 6, 7, 8, 9, 10, 11, 12, 13, 14, 15, 16, 17, 18, 19, 20, 21, 22, 23, 24, 25, 26, 27, 28, 29, 30, 31, 32, 33, 34, 35, 36, 37, 38, 39, 40, 41, 42, 43, 44, 45, 46, 47, 48, 49, 50, 51, 52, 53, 54, 55, 56, 57, 58, 59, 60, 61, 62, 63, 64, 65, 66, 67, 68, 69, 70, 71, 72, 73, 74, 75, 76, 77, 78, 79, 80, 81, 82, 83, 84, 85, 86, 87, 88, 89, 90, 91, 92, 93, 94, 95, 96, 97, 98, 99, 100, 101, 102, 103, 104, 105, 106, 107, 108, 109, 110, 111, 112, 113, 114, 115, 116, 117, 118, 119, 120, 121, 122, 123, 124, 125, 126, 127, 128, 129, 130, 131, 132, 133, 134, 135, 136, 137, 138, 139, 140, 141, 142, 143, 144, 145, 146, 147, 148, 149, 150, 151, 152, 153, 154, 155, 156, 157, 158, 159, 160, 161, 162, 163, 164, 165, 166, 167, 168, 169, 170, 171, 172, 173, 174, 175, 176, 177, 178, 179, 180, 181, 182, 183, 184, 185, 186, 187, 188, 189, 190, 191, 192, 193, 194, 195, 196, 197, 198, 199, 200, 201, 202, 203, 204, 205, 206, 207, 208, 209, 210, 211, 212, 213, 214, 215, 216, 217, 218, 219, 220, 221, 222, 223, 224, 225, 226, 227, 228, 229, 230, 231, 232, 233, 234, 235, 236, 237, 238, 239, 240, 241, 242, 243, 244, 245, 246, 247, 248, 249]), 'pos': set([250, 251, 252, 253, 254, 255, 256, 257, 258, 259, 260, 261, 262, 263, 264, 265, 266, 267, 268, 269, 270, 271, 272, 273, 274, 275, 276, 277, 278, 279, 280, 281, 282, 283, 284, 285, 286, 287, 288, 289, 290, 291, 292, 293, 294, 295, 296, 297, 298, 299, 300, 301, 302, 303, 304, 305, 306, 307, 308, 309, 310, 311, 312, 313, 314, 315, 316, 317, 318, 319, 320, 321, 322, 323, 324, 325, 326, 327, 328, 329, 330, 331, 332, 333, 334, 335, 336, 337, 338, 339, 340, 341, 342, 343, 344, 345, 346, 347, 348, 349, 350, 351, 352, 353, 354, 355, 356, 357, 358, 359, 360, 361, 362, 363, 364, 365, 366, 367, 368, 369, 370, 371, 372, 373, 374, 375, 376, 377, 378, 379, 380, 381, 382, 383, 384, 385, 386, 387, 388, 389, 390, 391, 392, 393, 394, 395, 396, 397, 398, 399, 400, 401, 402, 403, 404, 405, 406, 407, 408, 409, 410, 411, 412, 413, 414, 415, 416, 417, 418, 419, 420, 421, 422, 423, 424, 425, 426, 427, 428, 429, 430, 431, 432, 433, 434, 435, 436, 437, 438, 439, 440, 441, 442, 443, 444, 445, 446, 447, 448, 449, 450, 451, 452, 453, 454, 455, 456, 457, 458, 459, 460, 461, 462, 463, 464, 465, 466, 467, 468, 469, 470, 471, 472, 473, 474, 475, 476, 477, 478, 479, 480, 481, 482, 483, 484, 485, 486, 487, 488, 489, 490, 491, 492, 493, 494, 495, 496, 497, 498, 499])})\n",
        "defaultdict(<type 'set'>, {'neg': set([1, 3, 4, 5, 6, 7, 8, 15, 16, 18, 19, 21, 22, 23, 25, 26, 29, 31, 34, 36, 40, 41, 43, 44, 52, 57, 59, 60, 62, 64, 66, 67, 69, 70, 72, 73, 75, 77, 78, 79, 80, 83, 86, 89, 92, 93, 94, 98, 99, 105, 107, 108, 113, 121, 124, 127, 128, 129, 131, 132, 133, 135, 136, 137, 142, 144, 145, 146, 147, 148, 150, 152, 156, 160, 161, 164, 166, 167, 170, 173, 175, 178, 179, 180, 182, 184, 187, 188, 190, 195, 196, 198, 199, 200, 201, 203, 205, 206, 209, 211, 212, 216, 219, 220, 221, 223, 226, 227, 229, 230, 232, 234, 237, 238, 239, 240, 243, 244, 245, 341, 382, 415, 432, 447]), 'pos': set([0, 2, 9, 10, 11, 12, 13, 14, 17, 20, 24, 27, 28, 30, 32, 33, 35, 37, 38, 39, 42, 45, 46, 47, 48, 49, 50, 51, 53, 54, 55, 56, 58, 61, 63, 65, 68, 71, 74, 76, 81, 82, 84, 85, 87, 88, 90, 91, 95, 96, 97, 100, 101, 102, 103, 104, 106, 109, 110, 111, 112, 114, 115, 116, 117, 118, 119, 120, 122, 123, 125, 126, 130, 134, 138, 139, 140, 141, 143, 149, 151, 153, 154, 155, 157, 158, 159, 162, 163, 165, 168, 169, 171, 172, 174, 176, 177, 181, 183, 185, 186, 189, 191, 192, 193, 194, 197, 202, 204, 207, 208, 210, 213, 214, 215, 217, 218, 222, 224, 225, 228, 231, 233, 235, 236, 241, 242, 246, 247, 248, 249, 250, 251, 252, 253, 254, 255, 256, 257, 258, 259, 260, 261, 262, 263, 264, 265, 266, 267, 268, 269, 270, 271, 272, 273, 274, 275, 276, 277, 278, 279, 280, 281, 282, 283, 284, 285, 286, 287, 288, 289, 290, 291, 292, 293, 294, 295, 296, 297, 298, 299, 300, 301, 302, 303, 304, 305, 306, 307, 308, 309, 310, 311, 312, 313, 314, 315, 316, 317, 318, 319, 320, 321, 322, 323, 324, 325, 326, 327, 328, 329, 330, 331, 332, 333, 334, 335, 336, 337, 338, 339, 340, 342, 343, 344, 345, 346, 347, 348, 349, 350, 351, 352, 353, 354, 355, 356, 357, 358, 359, 360, 361, 362, 363, 364, 365, 366, 367, 368, 369, 370, 371, 372, 373, 374, 375, 376, 377, 378, 379, 380, 381, 383, 384, 385, 386, 387, 388, 389, 390, 391, 392, 393, 394, 395, 396, 397, 398, 399, 400, 401, 402, 403, 404, 405, 406, 407, 408, 409, 410, 411, 412, 413, 414, 416, 417, 418, 419, 420, 421, 422, 423, 424, 425, 426, 427, 428, 429, 430, 431, 433, 434, 435, 436, 437, 438, 439, 440, 441, 442, 443, 444, 445, 446, 448, 449, 450, 451, 452, 453, 454, 455, 456, 457, 458, 459, 460, 461, 462, 463, 464, 465, 466, 467, 468, 469, 470, 471, 472, 473, 474, 475, 476, 477, 478, 479, 480, 481, 482, 483, 484, 485, 486, 487, 488, 489, 490, 491, 492, 493, 494, 495, 496, 497, 498, 499])})\n",
        "Most Informative Features\n",
        "             magnificent = True              pos : neg    =     15.0 : 1.0"
       ]
      },
      {
       "output_type": "stream",
       "stream": "stdout",
       "text": [
        "\n",
        "             outstanding = True              pos : neg    =     13.6 : 1.0\n",
        "               insulting = True              neg : pos    =     13.0 : 1.0\n",
        "              vulnerable = True              pos : neg    =     12.3 : 1.0\n",
        "               ludicrous = True              neg : pos    =     11.8 : 1.0\n",
        "                  avoids = True              pos : neg    =     11.7 : 1.0\n",
        "             uninvolving = True              neg : pos    =     11.7 : 1.0\n",
        "              astounding = True              pos : neg    =     10.3 : 1.0\n",
        "             fascination = True              pos : neg    =     10.3 : 1.0\n",
        "                 idiotic = True              neg : pos    =      9.8 : 1.0\n"
       ]
      }
     ],
     "prompt_number": 73
    },
    {
     "cell_type": "code",
     "collapsed": false,
     "input": [
      "baseline_classifier.classify({'I': 'true', 'hate': 'true'})"
     ],
     "language": "python",
     "metadata": {},
     "outputs": [
      {
       "metadata": {},
       "output_type": "pyout",
       "prompt_number": 35,
       "text": [
        "'pos'"
       ]
      }
     ],
     "prompt_number": 35
    },
    {
     "cell_type": "code",
     "collapsed": false,
     "input": [
      "from nltk.corpus import stopwords\n",
      "stopset = set(stopwords.words('english'))\n",
      " \n",
      "def stopword_filtered_word_feats(words):\n",
      "    return dict([(word, True) for word in words if word not in stopset])\n",
      " \n",
      "evaluate_classifier(stopword_filtered_word_feats)\n"
     ],
     "language": "python",
     "metadata": {},
     "outputs": [
      {
       "output_type": "stream",
       "stream": "stdout",
       "text": [
        "accuracy: "
       ]
      },
      {
       "output_type": "stream",
       "stream": "stdout",
       "text": [
        "0.724\n",
        "pos precision: 0.647368421053\n",
        "pos recall: 0.984\n",
        "pos F-measure: 0.780952380952\n",
        "neg precision: 0.966666666667\n",
        "neg recall: 0.464\n",
        "neg F-measure: 0.627027027027\n",
        "Most Informative Features\n",
        "             magnificent = True              pos : neg    =     15.0 : 1.0"
       ]
      },
      {
       "output_type": "stream",
       "stream": "stdout",
       "text": [
        "\n",
        "             outstanding = True              pos : neg    =     13.6 : 1.0\n",
        "               insulting = True              neg : pos    =     13.0 : 1.0\n",
        "              vulnerable = True              pos : neg    =     12.3 : 1.0\n",
        "               ludicrous = True              neg : pos    =     11.8 : 1.0\n",
        "                  avoids = True              pos : neg    =     11.7 : 1.0\n",
        "             uninvolving = True              neg : pos    =     11.7 : 1.0\n",
        "              astounding = True              pos : neg    =     10.3 : 1.0\n",
        "             fascination = True              pos : neg    =     10.3 : 1.0\n",
        "                 idiotic = True              neg : pos    =      9.8 : 1.0\n"
       ]
      }
     ],
     "prompt_number": 12
    },
    {
     "cell_type": "code",
     "collapsed": false,
     "input": [
      "import itertools\n",
      "from nltk.collocations import BigramCollocationFinder\n",
      "from nltk.metrics import BigramAssocMeasures\n",
      " \n",
      "def bigram_word_feats(words, score_fn=BigramAssocMeasures.chi_sq, n=200):\n",
      "    bigram_finder = BigramCollocationFinder.from_words(words)\n",
      "    bigrams = bigram_finder.nbest(score_fn, n)\n",
      "    return dict([(ngram, True) for ngram in itertools.chain(words, bigrams)])\n",
      " \n",
      "evaluate_classifier(bigram_word_feats)\n"
     ],
     "language": "python",
     "metadata": {},
     "outputs": [
      {
       "output_type": "stream",
       "stream": "stdout",
       "text": [
        "accuracy: "
       ]
      },
      {
       "output_type": "stream",
       "stream": "stdout",
       "text": [
        "0.816\n",
        "pos precision: 0.753205128205\n",
        "pos recall: 0.94\n",
        "pos F-measure: 0.836298932384\n",
        "neg precision: 0.920212765957\n",
        "neg recall: 0.692\n",
        "neg F-measure: 0.7899543379\n",
        "Most Informative Features\n",
        "             magnificent = True              pos : neg    =     15.0 : 1.0"
       ]
      },
      {
       "output_type": "stream",
       "stream": "stdout",
       "text": [
        "\n",
        "             outstanding = True              pos : neg    =     13.6 : 1.0\n",
        "               insulting = True              neg : pos    =     13.0 : 1.0\n",
        "              vulnerable = True              pos : neg    =     12.3 : 1.0\n",
        "     (u'matt', u'damon') = True              pos : neg    =     12.3 : 1.0\n",
        "        (u'give', u'us') = True              neg : pos    =     12.3 : 1.0\n",
        "               ludicrous = True              neg : pos    =     11.8 : 1.0\n",
        "             uninvolving = True              neg : pos    =     11.7 : 1.0\n",
        "                  avoids = True              pos : neg    =     11.7 : 1.0\n",
        "  (u'absolutely', u'no') = True              neg : pos    =     10.6 : 1.0\n"
       ]
      }
     ],
     "prompt_number": 13
    },
    {
     "cell_type": "code",
     "collapsed": false,
     "input": [
      "word_fd = FreqDist(movie_reviews.words(categories=['pos']))"
     ],
     "language": "python",
     "metadata": {},
     "outputs": [],
     "prompt_number": 17
    },
    {
     "cell_type": "code",
     "collapsed": false,
     "input": [
      "import string\n",
      "\n",
      "punc_set = set(string.punctuation)\n",
      "label_word_fd = ConditionalFreqDist()\n",
      "# label_word_fd['pos']\n",
      "\n",
      "text_pos = [i.lower() for i in movie_reviews.words(categories=['pos']) if i.lower() not in stopset and i not in punc_set]\n",
      "label_word_fd['pos'] = FreqDist(text_pos)\n",
      "text_pos = [i.lower() for i in movie_reviews.words(categories=['neg']) if i.lower() not in stopset and i not in punc_set]\n",
      "label_word_fd['neg'] = FreqDist(text_pos)\n",
      "\n"
     ],
     "language": "python",
     "metadata": {},
     "outputs": [],
     "prompt_number": 26
    },
    {
     "cell_type": "code",
     "collapsed": false,
     "input": [
      "pos_word_count"
     ],
     "language": "python",
     "metadata": {},
     "outputs": [
      {
       "metadata": {},
       "output_type": "pyout",
       "prompt_number": 33,
       "text": [
        "502567"
       ]
      }
     ],
     "prompt_number": 33
    },
    {
     "cell_type": "code",
     "collapsed": false,
     "input": [
      "import collections, itertools\n",
      "import nltk.classify.util, nltk.metrics\n",
      "from nltk.classify import NaiveBayesClassifier\n",
      "from nltk.corpus import movie_reviews, stopwords\n",
      "from nltk.collocations import BigramCollocationFinder\n",
      "from nltk.metrics import BigramAssocMeasures\n",
      "from nltk.probability import FreqDist, ConditionalFreqDist\n",
      "import string\n",
      "\n",
      "punc_set = set(string.punctuation)\n",
      "\n",
      "text = [i.lower() for i in movie_reviews.words() if i.lower() not in stopset and i not in punc_set]\n",
      "word_fd = FreqDist(text)\n",
      "label_word_fd = ConditionalFreqDist()\n",
      "\n",
      "text_pos = [i.lower() for i in movie_reviews.words(categories=['pos']) if i.lower() not in stopset and i not in punc_set]\n",
      "label_word_fd['pos'] = FreqDist(text_pos)\n",
      "text_pos = [i.lower() for i in movie_reviews.words(categories=['neg']) if i.lower() not in stopset and i not in punc_set]\n",
      "label_word_fd['neg'] = FreqDist(text_pos)\n",
      "\n",
      " \n",
      "pos_word_count = label_word_fd['pos'].N()\n",
      "neg_word_count = label_word_fd['neg'].N()\n",
      "total_word_count = pos_word_count + neg_word_count\n",
      " \n",
      "word_scores = {}\n",
      " \n",
      "for word, freq in word_fd.iteritems():\n",
      "    pos_score = BigramAssocMeasures.chi_sq(label_word_fd['pos'][word],\n",
      "        (freq, pos_word_count), total_word_count)\n",
      "    neg_score = BigramAssocMeasures.chi_sq(label_word_fd['neg'][word],\n",
      "        (freq, neg_word_count), total_word_count)\n",
      "    word_scores[word] = pos_score + neg_score\n",
      " \n",
      "best = sorted(word_scores.iteritems(), key=lambda (w,s): s, reverse=True)[:10000]\n",
      "bestwords = set([w for w, s in best])\n",
      " \n",
      "def best_word_feats(words):\n",
      "    return dict([(word, True) for word in words if word in bestwords])\n",
      " \n",
      "print 'evaluating best word features'\n",
      "evaluate_classifier(best_word_feats)\n",
      " \n",
      "def best_bigram_word_feats(words, score_fn=BigramAssocMeasures.chi_sq, n=200):\n",
      "    bigram_finder = BigramCollocationFinder.from_words(words)\n",
      "    bigrams = bigram_finder.nbest(score_fn, n)\n",
      "    d = dict([(bigram, True) for bigram in bigrams])\n",
      "    d.update(best_word_feats(words))\n",
      "    return d\n",
      " \n",
      "print 'evaluating best words + bigram chi_sq word features'\n",
      "evaluate_classifier(best_bigram_word_feats)"
     ],
     "language": "python",
     "metadata": {},
     "outputs": [
      {
       "output_type": "stream",
       "stream": "stdout",
       "text": [
        "evaluating best word features\n",
        "accuracy:"
       ]
      },
      {
       "output_type": "stream",
       "stream": "stdout",
       "text": [
        " 0.924\n",
        "pos precision: 0.881294964029\n",
        "pos recall: 0.98\n",
        "pos F-measure: 0.92803030303\n",
        "neg precision: 0.977477477477\n",
        "neg recall: 0.868\n",
        "neg F-measure: 0.919491525424\n",
        "Most Informative Features\n",
        "             magnificent = True              pos : neg    =     15.0 : 1.0"
       ]
      },
      {
       "output_type": "stream",
       "stream": "stdout",
       "text": [
        "\n",
        "             outstanding = True              pos : neg    =     13.6 : 1.0\n",
        "               insulting = True              neg : pos    =     13.0 : 1.0\n",
        "              vulnerable = True              pos : neg    =     12.3 : 1.0\n",
        "               ludicrous = True              neg : pos    =     11.8 : 1.0\n",
        "                  avoids = True              pos : neg    =     11.7 : 1.0\n",
        "             uninvolving = True              neg : pos    =     11.7 : 1.0\n",
        "              astounding = True              pos : neg    =     10.3 : 1.0\n",
        "             fascination = True              pos : neg    =     10.3 : 1.0\n",
        "                 idiotic = True              neg : pos    =      9.8 : 1.0\n",
        "evaluating best words + bigram chi_sq word features"
       ]
      },
      {
       "output_type": "stream",
       "stream": "stdout",
       "text": [
        "\n",
        "accuracy:"
       ]
      },
      {
       "output_type": "stream",
       "stream": "stdout",
       "text": [
        " 0.922\n",
        "pos precision: 0.916996047431\n",
        "pos recall: 0.928\n",
        "pos F-measure: 0.922465208748\n",
        "neg precision: 0.927125506073\n",
        "neg recall: 0.916\n",
        "neg F-measure: 0.92152917505\n",
        "Most Informative Features\n",
        "             magnificent = True              pos : neg    =     15.0 : 1.0"
       ]
      },
      {
       "output_type": "stream",
       "stream": "stdout",
       "text": [
        "\n",
        "             outstanding = True              pos : neg    =     13.6 : 1.0\n",
        "               insulting = True              neg : pos    =     13.0 : 1.0\n",
        "     (u'matt', u'damon') = True              pos : neg    =     12.3 : 1.0\n",
        "              vulnerable = True              pos : neg    =     12.3 : 1.0\n",
        "        (u'give', u'us') = True              neg : pos    =     12.3 : 1.0\n",
        "               ludicrous = True              neg : pos    =     11.8 : 1.0\n",
        "             uninvolving = True              neg : pos    =     11.7 : 1.0\n",
        "                  avoids = True              pos : neg    =     11.7 : 1.0\n",
        "  (u'absolutely', u'no') = True              neg : pos    =     10.6 : 1.0\n"
       ]
      }
     ],
     "prompt_number": 38
    },
    {
     "cell_type": "code",
     "collapsed": false,
     "input": [
      "dir(FreqDist)"
     ],
     "language": "python",
     "metadata": {},
     "outputs": [
      {
       "metadata": {},
       "output_type": "pyout",
       "prompt_number": 16,
       "text": [
        "['B',\n",
        " 'N',\n",
        " 'Nr',\n",
        " '__add__',\n",
        " '__and__',\n",
        " '__class__',\n",
        " '__cmp__',\n",
        " '__contains__',\n",
        " '__delattr__',\n",
        " '__delitem__',\n",
        " '__dict__',\n",
        " '__doc__',\n",
        " '__eq__',\n",
        " '__format__',\n",
        " '__ge__',\n",
        " '__getattribute__',\n",
        " '__getitem__',\n",
        " '__gt__',\n",
        " '__hash__',\n",
        " '__init__',\n",
        " '__iter__',\n",
        " '__le__',\n",
        " '__len__',\n",
        " '__lt__',\n",
        " '__missing__',\n",
        " '__module__',\n",
        " '__ne__',\n",
        " '__new__',\n",
        " '__or__',\n",
        " '__reduce__',\n",
        " '__reduce_ex__',\n",
        " '__repr__',\n",
        " '__setattr__',\n",
        " '__setitem__',\n",
        " '__sizeof__',\n",
        " '__str__',\n",
        " '__sub__',\n",
        " '__subclasshook__',\n",
        " '__unicode__',\n",
        " '__weakref__',\n",
        " '_cumulative_frequencies',\n",
        " 'clear',\n",
        " 'copy',\n",
        " 'elements',\n",
        " 'freq',\n",
        " 'fromkeys',\n",
        " 'get',\n",
        " 'hapaxes',\n",
        " 'has_key',\n",
        " 'items',\n",
        " 'iteritems',\n",
        " 'iterkeys',\n",
        " 'itervalues',\n",
        " 'keys',\n",
        " 'max',\n",
        " 'most_common',\n",
        " 'pformat',\n",
        " 'plot',\n",
        " 'pop',\n",
        " 'popitem',\n",
        " 'pprint',\n",
        " 'r_Nr',\n",
        " 'setdefault',\n",
        " 'subtract',\n",
        " 'tabulate',\n",
        " 'unicode_repr',\n",
        " 'update',\n",
        " 'values',\n",
        " 'viewitems',\n",
        " 'viewkeys',\n",
        " 'viewvalues']"
       ]
      },
      {
       "output_type": "stream",
       "stream": "stdout",
       "text": [
        "\n"
       ]
      }
     ],
     "prompt_number": 16
    },
    {
     "cell_type": "code",
     "collapsed": false,
     "input": [
      "def data_clean(text):\n",
      "    # split content into sencetence\n",
      "    # based on the character\n",
      "    # if (re.search(\"(\\[.*\\])\", text)):\n",
      "    # \tsentences = re.compile(\"(\\[.*\\])\").split(text)\n",
      "    sentences = sent_tokenize(text)\n",
      "    for sentence in sentences:\n",
      "        words = word_tokenizer(sentence)\n",
      "    # stem the word"
     ],
     "language": "python",
     "metadata": {},
     "outputs": [
      {
       "metadata": {},
       "output_type": "pyout",
       "prompt_number": 3,
       "text": [
        "['BlanklineTokenizer',\n",
        " 'LineTokenizer',\n",
        " 'MWETokenizer',\n",
        " 'PunktSentenceTokenizer',\n",
        " 'RegexpTokenizer',\n",
        " 'SExprTokenizer',\n",
        " 'SpaceTokenizer',\n",
        " 'StanfordSegmenter',\n",
        " 'StanfordTokenizer',\n",
        " 'TabTokenizer',\n",
        " 'TextTilingTokenizer',\n",
        " 'TreebankWordTokenizer',\n",
        " 'TweetTokenizer',\n",
        " 'WhitespaceTokenizer',\n",
        " 'WordPunctTokenizer',\n",
        " '__builtins__',\n",
        " '__doc__',\n",
        " '__file__',\n",
        " '__name__',\n",
        " '__package__',\n",
        " '__path__',\n",
        " '_treebank_word_tokenize',\n",
        " 'api',\n",
        " 'blankline_tokenize',\n",
        " 'casual',\n",
        " 'casual_tokenize',\n",
        " 'line_tokenize',\n",
        " 'load',\n",
        " 'mwe',\n",
        " 'punkt',\n",
        " 'regexp',\n",
        " 'regexp_span_tokenize',\n",
        " 'regexp_tokenize',\n",
        " 'sent_tokenize',\n",
        " 'sexpr',\n",
        " 'sexpr_tokenize',\n",
        " 'simple',\n",
        " 'stanford',\n",
        " 'stanford_segmenter',\n",
        " 'string_span_tokenize',\n",
        " 'texttiling',\n",
        " 'treebank',\n",
        " 'util',\n",
        " 'word_tokenize',\n",
        " 'wordpunct_tokenize']"
       ]
      }
     ],
     "prompt_number": 3
    }
   ],
   "metadata": {}
  }
 ]
}